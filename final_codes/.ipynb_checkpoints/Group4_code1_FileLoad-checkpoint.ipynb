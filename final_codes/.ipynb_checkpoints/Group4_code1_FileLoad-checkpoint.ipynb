{
 "cells": [
  {
   "cell_type": "markdown",
   "metadata": {
    "id": "-vifXEDb_X6_"
   },
   "source": [
    "## 1. Load Package\n",
    "    패키지를 불러오는 부분입니다.\n",
    "    이 부분은 드라이브 마운트가 필요한 부분입니다. 이것을 통해서 드라이브로 X_train, test, val, y_train, test, val 을 numpy array로 저장해줍니다.\n",
    "    그리고 다른 코드들에선 그 파일을 다운받아서 사용할 수 있도록 코딩했습니다.\n",
    "    그렇게 함으로서 여러명이 코딩할 수 있고, 로컬에서도 실행할 수 있도록 했습니다.\n",
    "\n",
    "    이 파일 이외의 파일은 별 다른 불편함 없이 실행하면 모두 깔끔하게 실행됩니다.\n",
    "    이 파일의 경우, 적절한 drive folder를 마운트 해주세요"
   ]
  },
  {
   "cell_type": "code",
   "execution_count": null,
   "metadata": {
    "id": "JOnDZOl387Wx"
   },
   "outputs": [],
   "source": [
    "import os \n",
    "!pip install wfdb\n",
    "\n",
    "from IPython.display import display\n",
    "import matplotlib.pyplot as plt\n",
    "%matplotlib inline\n",
    "import numpy as np\n",
    "import os\n",
    "import shutil\n",
    "import wfdb "
   ]
  },
  {
   "cell_type": "code",
   "execution_count": null,
   "metadata": {
    "colab": {
     "base_uri": "https://localhost:8080/"
    },
    "executionInfo": {
     "elapsed": 883,
     "status": "ok",
     "timestamp": 1607340780171,
     "user": {
      "displayName": "고준서",
      "photoUrl": "https://lh3.googleusercontent.com/a-/AOh14Gg7AH0ONy_kdG9u5tOroFVHHJ0bj4Th4wNkRRmRtg=s64",
      "userId": "00253795494504996225"
     },
     "user_tz": -540
    },
    "id": "Obi_Q2oC9ONt",
    "outputId": "6c6492c8-8f0b-4252-f9c5-42759f541400"
   },
   "outputs": [
    {
     "name": "stdout",
     "output_type": "stream",
     "text": [
      "Drive already mounted at /content/drive; to attempt to forcibly remount, call drive.mount(\"/content/drive\", force_remount=True).\n"
     ]
    }
   ],
   "source": [
    "from google.colab import drive\n",
    "drive.mount('/content/drive')"
   ]
  },
  {
   "cell_type": "markdown",
   "metadata": {
    "id": "I9Pd8to5_3xU"
   },
   "source": [
    "## 2. Labeling\n",
    "    Non-specific repolarization abnormalities가 있으면 1 없으면 0으로 다시 라벨링했습니다."
   ]
  },
  {
   "cell_type": "code",
   "execution_count": null,
   "metadata": {
    "colab": {
     "base_uri": "https://localhost:8080/",
     "height": 117,
     "referenced_widgets": [
      "dc12313b462648daba465336c6ad44f0",
      "7e277eafda13492c90cbd721f169160b",
      "7e4fd938c3834c6bb8e22055ead9b3d8",
      "875d686ddf88414daef950704b9ffee1",
      "3dbabdd55bb94ff1bee40682c2283c15",
      "85d9895bd6524c82a6de48b8b8f3822d",
      "5016b12e73054b84b3832a50d818185a",
      "9e050cdb926b45a4be60e49050feef14"
     ]
    },
    "executionInfo": {
     "elapsed": 216068,
     "status": "ok",
     "timestamp": 1607341147572,
     "user": {
      "displayName": "고준서",
      "photoUrl": "https://lh3.googleusercontent.com/a-/AOh14Gg7AH0ONy_kdG9u5tOroFVHHJ0bj4Th4wNkRRmRtg=s64",
      "userId": "00253795494504996225"
     },
     "user_tz": -540
    },
    "id": "wHHpox7r-ebz",
    "outputId": "3b8ca40a-5e91-40f7-a190-b6c69f488a58"
   },
   "outputs": [
    {
     "name": "stderr",
     "output_type": "stream",
     "text": [
      "/usr/local/lib/python3.6/dist-packages/ipykernel_launcher.py:3: TqdmDeprecationWarning: This function will be removed in tqdm==5.0.0\n",
      "Please use `tqdm.notebook.tqdm` instead of `tqdm.tqdm_notebook`\n",
      "  This is separate from the ipykernel package so we can avoid doing imports until\n"
     ]
    },
    {
     "data": {
      "application/vnd.jupyter.widget-view+json": {
       "model_id": "dc12313b462648daba465336c6ad44f0",
       "version_major": 2,
       "version_minor": 0
      },
      "text/plain": [
       "HBox(children=(FloatProgress(value=0.0, max=200.0), HTML(value='')))"
      ]
     },
     "metadata": {
      "tags": []
     },
     "output_type": "display_data"
    },
    {
     "name": "stdout",
     "output_type": "stream",
     "text": [
      "\n"
     ]
    }
   ],
   "source": [
    "from tqdm import tqdm_notebook\n",
    "X = []; y = []\n",
    "for i in tqdm_notebook(range(1, 201)):\n",
    "#     print(wfdb.rdrecord(f'dataset/{i}').p_signal)\n",
    "#     print(wfdb.rdrecord(f\"dataset/{i}\").comments)\n",
    "    for_x, for_y = wfdb.rdrecord(f'/content/drive/My Drive/deep_learning/dataset/{i}').p_signal, wfdb.rdrecord(f\"/content/drive/My Drive/deep_learning/dataset/{i}\").comments\n",
    "    for t in for_y:\n",
    "        if \"Non-specific repolarization abnormalities\" in t:\n",
    "            for_y = 1\n",
    "        else:\n",
    "            for_y = 0\n",
    "    X.append(for_x)\n",
    "    y.append(for_y)\n",
    "X = np.array(X, dtype = np.float32)\n",
    "y = np.array(y)"
   ]
  },
  {
   "cell_type": "code",
   "execution_count": 34,
   "metadata": {
    "colab": {
     "base_uri": "https://localhost:8080/",
     "height": 282
    },
    "executionInfo": {
     "elapsed": 996,
     "status": "ok",
     "timestamp": 1607345726013,
     "user": {
      "displayName": "고준서",
      "photoUrl": "https://lh3.googleusercontent.com/a-/AOh14Gg7AH0ONy_kdG9u5tOroFVHHJ0bj4Th4wNkRRmRtg=s64",
      "userId": "00253795494504996225"
     },
     "user_tz": -540
    },
    "id": "c-XSyXB5AETY",
    "outputId": "9e2a8a4b-01c6-41ab-88e5-cb9e90e0defb"
   },
   "outputs": [
    {
     "data": {
      "text/plain": [
       "[<matplotlib.lines.Line2D at 0x7f8b5e81a710>]"
      ]
     },
     "execution_count": 34,
     "metadata": {
      "tags": []
     },
     "output_type": "execute_result"
    },
    {
     "data": {
      "image/png": "[encoded data removed]",
      "text/plain": [
       "<Figure size 432x288 with 1 Axes>"
      ]
     },
     "metadata": {
      "needs_background": "light",
      "tags": []
     },
     "output_type": "display_data"
    }
   ],
   "source": [
    "import matplotlib.pyplot as plt\n",
    "plt.plot(X[0].T[0][500:900])"
   ]
  },
  {
   "cell_type": "code",
   "execution_count": 39,
   "metadata": {
    "executionInfo": {
     "elapsed": 837,
     "status": "ok",
     "timestamp": 1607345793376,
     "user": {
      "displayName": "고준서",
      "photoUrl": "https://lh3.googleusercontent.com/a-/AOh14Gg7AH0ONy_kdG9u5tOroFVHHJ0bj4Th4wNkRRmRtg=s64",
      "userId": "00253795494504996225"
     },
     "user_tz": -540
    },
    "id": "NsPOJCTm-3oO"
   },
   "outputs": [],
   "source": [
    "from sklearn.model_selection import train_test_split\n",
    "X_train, X_test, y_train, y_test = train_test_split(X, y, test_size =0.1, random_state = 13)\n",
    "X_train, X_val, y_train, y_val = train_test_split(X_train, y_train, test_size =0.15, random_state = 13)"
   ]
  },
  {
   "cell_type": "code",
   "execution_count": 40,
   "metadata": {
    "colab": {
     "base_uri": "https://localhost:8080/"
    },
    "executionInfo": {
     "elapsed": 914,
     "status": "ok",
     "timestamp": 1607345795642,
     "user": {
      "displayName": "고준서",
      "photoUrl": "https://lh3.googleusercontent.com/a-/AOh14Gg7AH0ONy_kdG9u5tOroFVHHJ0bj4Th4wNkRRmRtg=s64",
      "userId": "00253795494504996225"
     },
     "user_tz": -540
    },
    "id": "3P_n2_XDRZ0y",
    "outputId": "0ccfac9a-bdef-45d9-e1ee-bcefef5193f6"
   },
   "outputs": [
    {
     "data": {
      "text/plain": [
       "(array([116,  37]), array([14,  6]), array([21,  6]))"
      ]
     },
     "execution_count": 40,
     "metadata": {
      "tags": []
     },
     "output_type": "execute_result"
    }
   ],
   "source": [
    "import numpy as np\n",
    "np.bincount(y_train),np.bincount(y_test),np.bincount(y_val)"
   ]
  },
  {
   "cell_type": "code",
   "execution_count": 41,
   "metadata": {
    "executionInfo": {
     "elapsed": 1129,
     "status": "ok",
     "timestamp": 1607345800759,
     "user": {
      "displayName": "고준서",
      "photoUrl": "https://lh3.googleusercontent.com/a-/AOh14Gg7AH0ONy_kdG9u5tOroFVHHJ0bj4Th4wNkRRmRtg=s64",
      "userId": "00253795494504996225"
     },
     "user_tz": -540
    },
    "id": "fHypN7TDACe4"
   },
   "outputs": [],
   "source": [
    "np.save( '/content/drive/MyDrive/deep_learning/FINASL/final_code/y_train',y_train)\n",
    "np.save( '/content/drive/MyDrive/deep_learning/FINASL/final_code/y_test',y_test)\n",
    "np.save( '/content/drive/MyDrive/deep_learning/FINASL/final_code/y_val',y_val)\n",
    "\n",
    "np.save( '/content/drive/MyDrive/deep_learning/FINASL/final_code/X_train',X_train)\n",
    "np.save( '/content/drive/MyDrive/deep_learning/FINASL/final_code/X_test',X_test)\n",
    "np.save( '/content/drive/MyDrive/deep_learning/FINASL/final_code/X_val',X_val)"
   ]
  },
  {
   "cell_type": "code",
   "execution_count": null,
   "metadata": {
    "id": "HJ2RcUVNRn-C"
   },
   "outputs": [],
   "source": []
  }
 ],
 "metadata": {
  "colab": {
   "authorship_tag": "ABX9TyMhHbrM5VFyuArdfjqaZWQH",
   "collapsed_sections": [],
   "name": "Group4_code1_FileLoad_Encoder.ipynb",
   "provenance": []
  },
  "kernelspec": {
   "display_name": "Python 3",
   "language": "python",
   "name": "python3"
  },
  "language_info": {
   "codemirror_mode": {
    "name": "ipython",
    "version": 3
   },
   "file_extension": ".py",
   "mimetype": "text/x-python",
   "name": "python",
   "nbconvert_exporter": "python",
   "pygments_lexer": "ipython3",
   "version": "3.7.6"
  },
  "widgets": {
   "application/vnd.jupyter.widget-state+json": {
    "3dbabdd55bb94ff1bee40682c2283c15": {
     "model_module": "@jupyter-widgets/controls",
     "model_name": "ProgressStyleModel",
     "state": {
      "_model_module": "@jupyter-widgets/controls",
      "_model_module_version": "1.5.0",
      "_model_name": "ProgressStyleModel",
      "_view_count": null,
      "_view_module": "@jupyter-widgets/base",
      "_view_module_version": "1.2.0",
      "_view_name": "StyleView",
      "bar_color": null,
      "description_width": "initial"
     }
    },
    "5016b12e73054b84b3832a50d818185a": {
     "model_module": "@jupyter-widgets/controls",
     "model_name": "DescriptionStyleModel",
     "state": {
      "_model_module": "@jupyter-widgets/controls",
      "_model_module_version": "1.5.0",
      "_model_name": "DescriptionStyleModel",
      "_view_count": null,
      "_view_module": "@jupyter-widgets/base",
      "_view_module_version": "1.2.0",
      "_view_name": "StyleView",
      "description_width": ""
     }
    },
    "7e277eafda13492c90cbd721f169160b": {
     "model_module": "@jupyter-widgets/base",
     "model_name": "LayoutModel",
     "state": {
      "_model_module": "@jupyter-widgets/base",
      "_model_module_version": "1.2.0",
      "_model_name": "LayoutModel",
      "_view_count": null,
      "_view_module": "@jupyter-widgets/base",
      "_view_module_version": "1.2.0",
      "_view_name": "LayoutView",
      "align_content": null,
      "align_items": null,
      "align_self": null,
      "border": null,
      "bottom": null,
      "display": null,
      "flex": null,
      "flex_flow": null,
      "grid_area": null,
      "grid_auto_columns": null,
      "grid_auto_flow": null,
      "grid_auto_rows": null,
      "grid_column": null,
      "grid_gap": null,
      "grid_row": null,
      "grid_template_areas": null,
      "grid_template_columns": null,
      "grid_template_rows": null,
      "height": null,
      "justify_content": null,
      "justify_items": null,
      "left": null,
      "margin": null,
      "max_height": null,
      "max_width": null,
      "min_height": null,
      "min_width": null,
      "object_fit": null,
      "object_position": null,
      "order": null,
      "overflow": null,
      "overflow_x": null,
      "overflow_y": null,
      "padding": null,
      "right": null,
      "top": null,
      "visibility": null,
      "width": null
     }
    },
    "7e4fd938c3834c6bb8e22055ead9b3d8": {
     "model_module": "@jupyter-widgets/controls",
     "model_name": "FloatProgressModel",
     "state": {
      "_dom_classes": [],
      "_model_module": "@jupyter-widgets/controls",
      "_model_module_version": "1.5.0",
      "_model_name": "FloatProgressModel",
      "_view_count": null,
      "_view_module": "@jupyter-widgets/controls",
      "_view_module_version": "1.5.0",
      "_view_name": "ProgressView",
      "bar_style": "success",
      "description": "100%",
      "description_tooltip": null,
      "layout": "IPY_MODEL_85d9895bd6524c82a6de48b8b8f3822d",
      "max": 200,
      "min": 0,
      "orientation": "horizontal",
      "style": "IPY_MODEL_3dbabdd55bb94ff1bee40682c2283c15",
      "value": 200
     }
    },
    "85d9895bd6524c82a6de48b8b8f3822d": {
     "model_module": "@jupyter-widgets/base",
     "model_name": "LayoutModel",
     "state": {
      "_model_module": "@jupyter-widgets/base",
      "_model_module_version": "1.2.0",
      "_model_name": "LayoutModel",
      "_view_count": null,
      "_view_module": "@jupyter-widgets/base",
      "_view_module_version": "1.2.0",
      "_view_name": "LayoutView",
      "align_content": null,
      "align_items": null,
      "align_self": null,
      "border": null,
      "bottom": null,
      "display": null,
      "flex": null,
      "flex_flow": null,
      "grid_area": null,
      "grid_auto_columns": null,
      "grid_auto_flow": null,
      "grid_auto_rows": null,
      "grid_column": null,
      "grid_gap": null,
      "grid_row": null,
      "grid_template_areas": null,
      "grid_template_columns": null,
      "grid_template_rows": null,
      "height": null,
      "justify_content": null,
      "justify_items": null,
      "left": null,
      "margin": null,
      "max_height": null,
      "max_width": null,
      "min_height": null,
      "min_width": null,
      "object_fit": null,
      "object_position": null,
      "order": null,
      "overflow": null,
      "overflow_x": null,
      "overflow_y": null,
      "padding": null,
      "right": null,
      "top": null,
      "visibility": null,
      "width": null
     }
    },
    "875d686ddf88414daef950704b9ffee1": {
     "model_module": "@jupyter-widgets/controls",
     "model_name": "HTMLModel",
     "state": {
      "_dom_classes": [],
      "_model_module": "@jupyter-widgets/controls",
      "_model_module_version": "1.5.0",
      "_model_name": "HTMLModel",
      "_view_count": null,
      "_view_module": "@jupyter-widgets/controls",
      "_view_module_version": "1.5.0",
      "_view_name": "HTMLView",
      "description": "",
      "description_tooltip": null,
      "layout": "IPY_MODEL_9e050cdb926b45a4be60e49050feef14",
      "placeholder": "​",
      "style": "IPY_MODEL_5016b12e73054b84b3832a50d818185a",
      "value": " 200/200 [04:14&lt;00:00,  1.27s/it]"
     }
    },
    "9e050cdb926b45a4be60e49050feef14": {
     "model_module": "@jupyter-widgets/base",
     "model_name": "LayoutModel",
     "state": {
      "_model_module": "@jupyter-widgets/base",
      "_model_module_version": "1.2.0",
      "_model_name": "LayoutModel",
      "_view_count": null,
      "_view_module": "@jupyter-widgets/base",
      "_view_module_version": "1.2.0",
      "_view_name": "LayoutView",
      "align_content": null,
      "align_items": null,
      "align_self": null,
      "border": null,
      "bottom": null,
      "display": null,
      "flex": null,
      "flex_flow": null,
      "grid_area": null,
      "grid_auto_columns": null,
      "grid_auto_flow": null,
      "grid_auto_rows": null,
      "grid_column": null,
      "grid_gap": null,
      "grid_row": null,
      "grid_template_areas": null,
      "grid_template_columns": null,
      "grid_template_rows": null,
      "height": null,
      "justify_content": null,
      "justify_items": null,
      "left": null,
      "margin": null,
      "max_height": null,
      "max_width": null,
      "min_height": null,
      "min_width": null,
      "object_fit": null,
      "object_position": null,
      "order": null,
      "overflow": null,
      "overflow_x": null,
      "overflow_y": null,
      "padding": null,
      "right": null,
      "top": null,
      "visibility": null,
      "width": null
     }
    },
    "dc12313b462648daba465336c6ad44f0": {
     "model_module": "@jupyter-widgets/controls",
     "model_name": "HBoxModel",
     "state": {
      "_dom_classes": [],
      "_model_module": "@jupyter-widgets/controls",
      "_model_module_version": "1.5.0",
      "_model_name": "HBoxModel",
      "_view_count": null,
      "_view_module": "@jupyter-widgets/controls",
      "_view_module_version": "1.5.0",
      "_view_name": "HBoxView",
      "box_style": "",
      "children": [
       "IPY_MODEL_7e4fd938c3834c6bb8e22055ead9b3d8",
       "IPY_MODEL_875d686ddf88414daef950704b9ffee1"
      ],
      "layout": "IPY_MODEL_7e277eafda13492c90cbd721f169160b"
     }
    }
   }
  }
 },
 "nbformat": 4,
 "nbformat_minor": 1
}
