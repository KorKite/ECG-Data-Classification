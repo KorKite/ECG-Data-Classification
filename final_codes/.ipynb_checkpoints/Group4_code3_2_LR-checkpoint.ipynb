{
 "cells": [
  {
   "cell_type": "markdown",
   "metadata": {
    "id": "qY3AVehcyuSb"
   },
   "source": [
    "# Logistic Regression \n",
    "### AutoEncoder로 전처리한 코드\n",
    "\n"
   ]
  },
  {
   "cell_type": "code",
   "execution_count": 1,
   "metadata": {
    "id": "cXfA7EgTyuSk"
   },
   "outputs": [],
   "source": [
    "import os\n",
    "import pandas as pd\n",
    "\n",
    "os.chdir(\"C:/Users/Kyuree Jeon/Desktop/귤/20-2/딥러닝/기말 팀플/모델링 데이터\")"
   ]
  },
  {
   "cell_type": "code",
   "execution_count": 2,
   "metadata": {
    "id": "pUzdGsNKyuSm"
   },
   "outputs": [],
   "source": [
    "import numpy as np\n",
    "\n",
    "X_auto_val = np.load(\"X_val_enc.npy\")\n",
    "X_auto_test = np.load(\"X_test_enc.npy\")\n",
    "X_auto_train = np.load(\"X_train_enc.npy\")\n",
    "\n",
    "X_val = np.load(\"X_val.npy\")\n",
    "X_test = np.load(\"X_test.npy\")\n",
    "X_train = np.load(\"X_train.npy\")\n",
    "\n",
    "y_val = np.load(\"y_val.npy\")\n",
    "y_test = np.load(\"y_test.npy\")\n",
    "y_train = np.load(\"y_train.npy\")"
   ]
  },
  {
   "cell_type": "code",
   "execution_count": 3,
   "metadata": {
    "id": "bU6AYkw_yuSn"
   },
   "outputs": [],
   "source": [
    "# 모델링 편의를 위해 train, val 데이터셋을 합쳐주었습니다. \n",
    "\n",
    "X_auto_train_val = np.vstack([X_auto_train,X_auto_val])"
   ]
  },
  {
   "cell_type": "code",
   "execution_count": 4,
   "metadata": {
    "id": "mAC3pItXyuSn"
   },
   "outputs": [],
   "source": [
    "y_trainval = np.concatenate((y_train,y_val),axis=0)"
   ]
  },
  {
   "cell_type": "code",
   "execution_count": 5,
   "metadata": {
    "id": "naiwTMcRyuSo"
   },
   "outputs": [],
   "source": [
    "from sklearn.linear_model import LogisticRegression\n",
    "from sklearn.metrics import precision_score, recall_score, f1_score\n",
    "from sklearn.metrics import accuracy_score\n",
    "from sklearn.model_selection import GridSearchCV"
   ]
  },
  {
   "cell_type": "code",
   "execution_count": 6,
   "metadata": {
    "id": "DsUKQ1ocyuSo"
   },
   "outputs": [],
   "source": [
    "lr = LogisticRegression(random_state=0, solver='liblinear')"
   ]
  },
  {
   "cell_type": "code",
   "execution_count": 7,
   "metadata": {
    "id": "Y9S2l3sQyuSp"
   },
   "outputs": [],
   "source": [
    "param_grid ={'C':[0.01,0.1,1,10,100],\n",
    "            'penalty':['l1','l2']}\n",
    "gs = GridSearchCV(estimator=lr,param_grid=param_grid, scoring='accuracy',cv=5)"
   ]
  },
  {
   "cell_type": "code",
   "execution_count": 8,
   "metadata": {
    "id": "8zAfst9pyuSp"
   },
   "outputs": [
    {
     "data": {
      "text/plain": [
       "GridSearchCV(cv=5, error_score=nan,\n",
       "             estimator=LogisticRegression(C=1.0, class_weight=None, dual=False,\n",
       "                                          fit_intercept=True,\n",
       "                                          intercept_scaling=1, l1_ratio=None,\n",
       "                                          max_iter=100, multi_class='auto',\n",
       "                                          n_jobs=None, penalty='l2',\n",
       "                                          random_state=0, solver='liblinear',\n",
       "                                          tol=0.0001, verbose=0,\n",
       "                                          warm_start=False),\n",
       "             iid='deprecated', n_jobs=None,\n",
       "             param_grid={'C': [0.01, 0.1, 1, 10, 100], 'penalty': ['l1', 'l2']},\n",
       "             pre_dispatch='2*n_jobs', refit=True, return_train_score=False,\n",
       "             scoring='accuracy', verbose=0)"
      ]
     },
     "execution_count": 8,
     "metadata": {},
     "output_type": "execute_result"
    }
   ],
   "source": [
    "# Gridsearch를 이용해서 LR 모델링을 해줍니다. \n",
    "\n",
    "gs.fit(X_auto_train_val, y_trainval)"
   ]
  },
  {
   "cell_type": "code",
   "execution_count": 9,
   "metadata": {
    "id": "dasfpYvAyuSp"
   },
   "outputs": [
    {
     "data": {
      "text/plain": [
       "0.75"
      ]
     },
     "execution_count": 9,
     "metadata": {},
     "output_type": "execute_result"
    }
   ],
   "source": [
    "gs.score(X_auto_test, y_test)"
   ]
  },
  {
   "cell_type": "code",
   "execution_count": 10,
   "metadata": {
    "id": "ew55tcmDyuSq"
   },
   "outputs": [],
   "source": [
    "y_pred = gs.predict(X_auto_test)\n",
    "y_pred_softmax =gs.decision_function(X_auto_test)"
   ]
  },
  {
   "cell_type": "code",
   "execution_count": 11,
   "metadata": {
    "id": "Jgj7kkPFyuSq"
   },
   "outputs": [],
   "source": [
    "# 모델링 결과 평가를 위해 그래프를 저장할 경로를 지정합니다. \n",
    "\n",
    "path = \"C:/Users/Kyuree Jeon/Desktop/귤/20-2/딥러닝/기말 팀플/모델링 데이터/모델링 결과/\""
   ]
  },
  {
   "cell_type": "markdown",
   "metadata": {
    "id": "nE2dQvWyz7Du"
   },
   "source": [
    "# Evaluation Function"
   ]
  },
  {
   "cell_type": "code",
   "execution_count": 12,
   "metadata": {
    "id": "3cGJvG-_yuSq"
   },
   "outputs": [],
   "source": [
    "from sklearn.metrics import classification_report, confusion_matrix, roc_curve, auc\n",
    "import seaborn as sns\n",
    "import matplotlib.pyplot as plt\n",
    "\n",
    "def evaluation(y_true, y_pred, model_name = \"Logistic Regression\"): \n",
    "    # 실제값, 모델이 예측한 값 순서로 넣어주세요. model_name은 plot에 나올 제목 이름입니다. # 라벨 순서는 0이 정상 1이 질병입니다.\n",
    "    print(classification_report(y_true, y_pred))\n",
    "\n",
    "    plt.figure(figsize=[8,8])\n",
    "    plt.title(model_name+\" confusion matrix\", fontsize = 20)\n",
    "    labels = [\"Negative\", \"Positive\"]\n",
    "    conf_m = pd.DataFrame(confusion_matrix(y_true, y_pred), index = labels, columns = labels)\n",
    "    ax = sns.heatmap(conf_m, cmap=\"Blues\", annot=True,fmt='5')\n",
    "    plt.yticks(va=\"center\")\n",
    "    plt.savefig(path+model_name+\"_confusion_matrix.pdf\")\n",
    "\n",
    "def AUROC_Curve(y_true, y_pred_softmax, model_name):\n",
    "    fpr, tpr, thresholds = roc_curve(y_true, y_pred_softmax)\n",
    "    roc_auc = auc(fpr, tpr)\n",
    "    plt.figure()\n",
    "    plt.plot(fpr, tpr, label='ROC curve (area = %0.2f)' % roc_auc)\n",
    "    plt.plot([0, 1], [0, 1], 'k--')\n",
    "    plt.xlim([-0.01, 1.0])\n",
    "    plt.ylim([0.0, 1.02])\n",
    "    plt.xlabel('False Positive Rate')\n",
    "    plt.ylabel('True Positive Rate')\n",
    "    plt.title(model_name)\n",
    "    plt.legend(loc=\"lower right\")\n",
    "    plt.savefig(path+model_name+\"_auroc_curve.pdf\")"
   ]
  },
  {
   "cell_type": "markdown",
   "metadata": {},
   "source": [
    "## 전처리한 데이터"
   ]
  },
  {
   "cell_type": "code",
   "execution_count": 13,
   "metadata": {
    "id": "29wus-QdyuSr"
   },
   "outputs": [
    {
     "name": "stderr",
     "output_type": "stream",
     "text": [
      "C:\\Users\\Kyuree Jeon\\anaconda3\\lib\\site-packages\\sklearn\\metrics\\_classification.py:1272: UndefinedMetricWarning: Precision and F-score are ill-defined and being set to 0.0 in labels with no predicted samples. Use `zero_division` parameter to control this behavior.\n",
      "  _warn_prf(average, modifier, msg_start, len(result))\n"
     ]
    },
    {
     "name": "stdout",
     "output_type": "stream",
     "text": [
      "              precision    recall  f1-score   support\n",
      "\n",
      "           0       0.75      1.00      0.86        15\n",
      "           1       0.00      0.00      0.00         5\n",
      "\n",
      "    accuracy                           0.75        20\n",
      "   macro avg       0.38      0.50      0.43        20\n",
      "weighted avg       0.56      0.75      0.64        20\n",
      "\n"
     ]
    },
    {
     "data": {
      "image/png": "[encoded data removed]",
      "text/plain": [
       "<Figure size 576x576 with 2 Axes>"
      ]
     },
     "metadata": {
      "needs_background": "light"
     },
     "output_type": "display_data"
    },
    {
     "data": {
      "image/png": "[encoded data removed]",
      "text/plain": [
       "<Figure size 432x288 with 1 Axes>"
      ]
     },
     "metadata": {
      "needs_background": "light"
     },
     "output_type": "display_data"
    }
   ],
   "source": [
    "evaluation(y_test, y_pred, \"Logistic Regression1\")\n",
    "AUROC_Curve(y_test, y_pred_softmax, \"Logistic Regression1\")"
   ]
  },
  {
   "cell_type": "markdown",
   "metadata": {
    "id": "4Jn0MmekyuSs"
   },
   "source": [
    "# Logistic Regression - 전처리 안한 기본 데이터셋으로 모델링 \n"
   ]
  },
  {
   "cell_type": "code",
   "execution_count": 14,
   "metadata": {
    "id": "vhUuKNZryuSt"
   },
   "outputs": [],
   "source": [
    "import os\n",
    "import pandas as pd\n",
    "\n",
    "os.chdir(\"C:/Users/Kyuree Jeon/Desktop/귤/20-2/딥러닝/기말 팀플/모델링 데이터\")"
   ]
  },
  {
   "cell_type": "code",
   "execution_count": 15,
   "metadata": {
    "id": "daQn_FG5yuSt"
   },
   "outputs": [],
   "source": [
    "import numpy as np\n",
    "\n",
    "X_auto_val = np.load(\"X_auto_val.npy\")\n",
    "X_auto_test = np.load(\"X_auto_test.npy\")\n",
    "X_auto_train = np.load(\"X_auto_train.npy\")\n",
    "\n",
    "X_val = np.load(\"X_val.npy\")\n",
    "X_test = np.load(\"X_test.npy\")\n",
    "X_train = np.load(\"X_train.npy\")\n",
    "\n",
    "y_val = np.load(\"y_val.npy\")\n",
    "y_test = np.load(\"y_test.npy\")\n",
    "y_train = np.load(\"y_train.npy\")"
   ]
  },
  {
   "cell_type": "code",
   "execution_count": 16,
   "metadata": {
    "id": "XfqpVZuWyuSt",
    "scrolled": true
   },
   "outputs": [],
   "source": [
    "X_auto_train_val = np.vstack([X_auto_train,X_auto_val])"
   ]
  },
  {
   "cell_type": "code",
   "execution_count": 17,
   "metadata": {
    "id": "A-kh_HbeyuSu",
    "outputId": "cece179a-17a6-4d4e-b797-b1ea49462f3b"
   },
   "outputs": [
    {
     "data": {
      "text/plain": [
       "array([[1023.22686768,  317.269104  , 1000.75970459, ..., 2654.59545898,\n",
       "         843.45928955, 1545.92614746],\n",
       "       [1463.83081055,  713.04760742,    0.        , ...,  384.88162231,\n",
       "         351.47369385,  668.26953125],\n",
       "       [   0.        ,    0.        , 2340.61645508, ...,    0.        ,\n",
       "         195.94404602, 1139.46691895],\n",
       "       ...,\n",
       "       [1732.80334473,  763.11505127,  380.35113525, ...,  929.40319824,\n",
       "        2954.18408203,  435.85122681],\n",
       "       [ 467.32440186,    0.        ,  196.61221313, ..., 1765.06237793,\n",
       "        1418.15429688, 1550.38049316],\n",
       "       [   0.        ,    0.        ,    0.        , ..., 3671.18261719,\n",
       "        2722.16772461, 2757.23461914]])"
      ]
     },
     "execution_count": 17,
     "metadata": {},
     "output_type": "execute_result"
    }
   ],
   "source": [
    "X_auto_train_val"
   ]
  },
  {
   "cell_type": "code",
   "execution_count": 18,
   "metadata": {
    "id": "Tmb1XsUpyuSv"
   },
   "outputs": [],
   "source": [
    "y_trainval = np.concatenate((y_train,y_val),axis=0)"
   ]
  },
  {
   "cell_type": "markdown",
   "metadata": {
    "id": "1-1nfqCeyuSw"
   },
   "source": [
    "# Logistic Regression"
   ]
  },
  {
   "cell_type": "code",
   "execution_count": 19,
   "metadata": {
    "id": "9JdUCRNeyuSw"
   },
   "outputs": [],
   "source": [
    "from sklearn.linear_model import LogisticRegression\n",
    "from sklearn.metrics import precision_score, recall_score, f1_score\n",
    "from sklearn.metrics import accuracy_score\n",
    "from sklearn.model_selection import GridSearchCV\n"
   ]
  },
  {
   "cell_type": "code",
   "execution_count": 20,
   "metadata": {
    "id": "EAybrL_MyuSx"
   },
   "outputs": [],
   "source": [
    "lr = LogisticRegression(random_state=0, solver='liblinear')"
   ]
  },
  {
   "cell_type": "code",
   "execution_count": 21,
   "metadata": {
    "id": "IZ079ahjyuSx"
   },
   "outputs": [],
   "source": [
    "param_grid ={'C':[0.01,0.1,1,10,100],\n",
    "            'penalty':['l1','l2']}\n",
    "gs = GridSearchCV(estimator=lr,param_grid=param_grid, scoring='accuracy',cv=5)"
   ]
  },
  {
   "cell_type": "code",
   "execution_count": 22,
   "metadata": {
    "id": "wefW2aXGyuSx",
    "outputId": "8dc19024-5e04-4619-fd3f-7e393ecd4fee",
    "scrolled": false
   },
   "outputs": [
    {
     "data": {
      "text/plain": [
       "GridSearchCV(cv=5, error_score=nan,\n",
       "             estimator=LogisticRegression(C=1.0, class_weight=None, dual=False,\n",
       "                                          fit_intercept=True,\n",
       "                                          intercept_scaling=1, l1_ratio=None,\n",
       "                                          max_iter=100, multi_class='auto',\n",
       "                                          n_jobs=None, penalty='l2',\n",
       "                                          random_state=0, solver='liblinear',\n",
       "                                          tol=0.0001, verbose=0,\n",
       "                                          warm_start=False),\n",
       "             iid='deprecated', n_jobs=None,\n",
       "             param_grid={'C': [0.01, 0.1, 1, 10, 100], 'penalty': ['l1', 'l2']},\n",
       "             pre_dispatch='2*n_jobs', refit=True, return_train_score=False,\n",
       "             scoring='accuracy', verbose=0)"
      ]
     },
     "execution_count": 22,
     "metadata": {},
     "output_type": "execute_result"
    }
   ],
   "source": [
    "gs.fit(X_auto_train_val, y_trainval)"
   ]
  },
  {
   "cell_type": "code",
   "execution_count": 23,
   "metadata": {
    "id": "GF6A9rVxyuSx",
    "outputId": "2fe30844-69b3-4fc7-e0cf-ae1b7ed5f0e9"
   },
   "outputs": [
    {
     "data": {
      "text/plain": [
       "0.7"
      ]
     },
     "execution_count": 23,
     "metadata": {},
     "output_type": "execute_result"
    }
   ],
   "source": [
    "gs.score(X_auto_test, y_test)"
   ]
  },
  {
   "cell_type": "code",
   "execution_count": null,
   "metadata": {
    "id": "bVVbIXzFyuSy"
   },
   "outputs": [],
   "source": []
  },
  {
   "cell_type": "code",
   "execution_count": 24,
   "metadata": {
    "id": "ibIvOPQ3yuSy"
   },
   "outputs": [],
   "source": [
    "y_pred = gs.predict(X_auto_test)\n",
    "y_pred_softmax =gs.decision_function(X_auto_test)"
   ]
  },
  {
   "cell_type": "code",
   "execution_count": 25,
   "metadata": {
    "id": "2bROO07QyuSy"
   },
   "outputs": [],
   "source": [
    "path = \"C:/Users/Kyuree Jeon/Desktop/귤/20-2/딥러닝/기말 팀플/모델링 데이터/모델링 결과/\""
   ]
  },
  {
   "cell_type": "code",
   "execution_count": 26,
   "metadata": {
    "id": "Xg8iRklUyuSy"
   },
   "outputs": [],
   "source": [
    "from sklearn.metrics import classification_report, confusion_matrix, roc_curve, auc\n",
    "import seaborn as sns\n",
    "import matplotlib.pyplot as plt\n",
    "\n",
    "def evaluation(y_true, y_pred, model_name = \"Logistic Regression\"): \n",
    "    # 실제값, 모델이 예측한 값 순서로 넣어주세요. model_name은 plot에 나올 제목 이름입니다. # 라벨 순서는 0이 정상 1이 질병입니다.\n",
    "    print(classification_report(y_true, y_pred))\n",
    "\n",
    "    plt.figure(figsize=[8,8])\n",
    "    plt.title(model_name+\" confusion matrix\", fontsize = 20)\n",
    "    labels = [\"Negative\", \"Positive\"]\n",
    "    conf_m = pd.DataFrame(confusion_matrix(y_true, y_pred), index = labels, columns = labels)\n",
    "    ax = sns.heatmap(conf_m, cmap=\"Blues\", annot=True,fmt='5')\n",
    "    plt.yticks(va=\"center\")\n",
    "    plt.savefig(path+model_name+\"_confusion_matrix.pdf\")\n",
    "\n",
    "def AUROC_Curve(y_true, y_pred_softmax, model_name):\n",
    "    fpr, tpr, thresholds = roc_curve(y_true, y_pred_softmax)\n",
    "    roc_auc = auc(fpr, tpr)\n",
    "    plt.figure()\n",
    "    plt.plot(fpr, tpr, label='ROC curve (area = %0.2f)' % roc_auc)\n",
    "    plt.plot([0, 1], [0, 1], 'k--')\n",
    "    plt.xlim([-0.01, 1.0])\n",
    "    plt.ylim([0.0, 1.02])\n",
    "    plt.xlabel('False Positive Rate')\n",
    "    plt.ylabel('True Positive Rate')\n",
    "    plt.title(model_name)\n",
    "    plt.legend(loc=\"lower right\")\n",
    "    plt.savefig(path+model_name+\"_auroc_curve.pdf\")"
   ]
  },
  {
   "cell_type": "markdown",
   "metadata": {},
   "source": [
    "## 원본 데이터 성능"
   ]
  },
  {
   "cell_type": "code",
   "execution_count": 27,
   "metadata": {
    "id": "-Vc61PkZyuSz",
    "outputId": "d4e47d6d-cc38-4fd8-ec5e-1122e5991449"
   },
   "outputs": [
    {
     "name": "stdout",
     "output_type": "stream",
     "text": [
      "              precision    recall  f1-score   support\n",
      "\n",
      "           0       0.76      0.87      0.81        15\n",
      "           1       0.33      0.20      0.25         5\n",
      "\n",
      "    accuracy                           0.70        20\n",
      "   macro avg       0.55      0.53      0.53        20\n",
      "weighted avg       0.66      0.70      0.67        20\n",
      "\n"
     ]
    },
    {
     "data": {
      "image/png": "[encoded data removed]",
      "text/plain": [
       "<Figure size 576x576 with 2 Axes>"
      ]
     },
     "metadata": {
      "needs_background": "light"
     },
     "output_type": "display_data"
    },
    {
     "data": {
      "image/png": "[encoded data removed]",
      "text/plain": [
       "<Figure size 432x288 with 1 Axes>"
      ]
     },
     "metadata": {
      "needs_background": "light"
     },
     "output_type": "display_data"
    }
   ],
   "source": [
    "evaluation(y_test, y_pred, \"Logistic Regression1\")\n",
    "AUROC_Curve(y_test, y_pred_softmax, \"Logistic Regression1\")"
   ]
  },
  {
   "cell_type": "code",
   "execution_count": null,
   "metadata": {
    "id": "IhTKOfIxyuSz"
   },
   "outputs": [],
   "source": []
  },
  {
   "cell_type": "code",
   "execution_count": null,
   "metadata": {
    "id": "B7oDgGXfyuSz"
   },
   "outputs": [],
   "source": []
  },
  {
   "cell_type": "code",
   "execution_count": null,
   "metadata": {
    "id": "I1JXD2HKyuSz"
   },
   "outputs": [],
   "source": []
  },
  {
   "cell_type": "code",
   "execution_count": null,
   "metadata": {
    "id": "f1-uQ_x1yuS0"
   },
   "outputs": [],
   "source": []
  },
  {
   "cell_type": "code",
   "execution_count": null,
   "metadata": {
    "id": "HMxCPzSVyuS0"
   },
   "outputs": [],
   "source": []
  },
  {
   "cell_type": "code",
   "execution_count": null,
   "metadata": {
    "id": "1PK0cl5_yuS0"
   },
   "outputs": [],
   "source": []
  }
 ],
 "metadata": {
  "colab": {
   "collapsed_sections": [],
   "name": "Group4_LR .ipynb",
   "provenance": []
  },
  "kernelspec": {
   "display_name": "Python 3",
   "language": "python",
   "name": "python3"
  },
  "language_info": {
   "codemirror_mode": {
    "name": "ipython",
    "version": 3
   },
   "file_extension": ".py",
   "mimetype": "text/x-python",
   "name": "python",
   "nbconvert_exporter": "python",
   "pygments_lexer": "ipython3",
   "version": "3.7.6"
  }
 },
 "nbformat": 4,
 "nbformat_minor": 1
}
