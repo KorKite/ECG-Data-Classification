{
 "cells": [
  {
   "cell_type": "markdown",
   "metadata": {},
   "source": [
    "# 단일 신경망을 사용한 네트워크를 실험한 코드입니다."
   ]
  },
  {
   "cell_type": "code",
   "execution_count": 92,
   "metadata": {
    "colab": {
     "base_uri": "https://localhost:8080/",
     "height": 134,
     "referenced_widgets": [
      "cb276a35f8ec487fa1732f07b8cee1a8",
      "ed0cb2997cb142c4959adc89f430287f",
      "69540fbb78c244218479ef1068bff917",
      "25aee7e88d50462eaa52196d80682b8c",
      "b3a58f57455143db967f75637524590f",
      "d28d9d50a5544651b947180b3327dd7c",
      "088e18bef93c4945a0991d7e7c84e302",
      "8b315235603a48fbb94158de3f794d68"
     ]
    },
    "executionInfo": {
     "elapsed": 19004,
     "status": "ok",
     "timestamp": 1607579545310,
     "user": {
      "displayName": "고준서",
      "photoUrl": "https://lh3.googleusercontent.com/a-/AOh14Gg7AH0ONy_kdG9u5tOroFVHHJ0bj4Th4wNkRRmRtg=s64",
      "userId": "00253795494504996225"
     },
     "user_tz": -540
    },
    "id": "ixL7gQd-MRmv",
    "outputId": "08f66993-c384-4c7f-fb0a-9383b446f37a"
   },
   "outputs": [
    {
     "name": "stdout",
     "output_type": "stream",
     "text": [
      "Now starting To download!\n"
     ]
    },
    {
     "name": "stderr",
     "output_type": "stream",
     "text": [
      "/usr/local/lib/python3.6/dist-packages/ipykernel_launcher.py:14: TqdmDeprecationWarning: This function will be removed in tqdm==5.0.0\n",
      "Please use `tqdm.notebook.tqdm` instead of `tqdm.tqdm_notebook`\n",
      "  \n"
     ]
    },
    {
     "data": {
      "application/vnd.jupyter.widget-view+json": {
       "model_id": "cb276a35f8ec487fa1732f07b8cee1a8",
       "version_major": 2,
       "version_minor": 0
      },
      "text/plain": [
       "HBox(children=(FloatProgress(value=0.0, max=9.0), HTML(value='')))"
      ]
     },
     "metadata": {
      "tags": []
     },
     "output_type": "display_data"
    },
    {
     "name": "stdout",
     "output_type": "stream",
     "text": [
      "\n"
     ]
    }
   ],
   "source": [
    "#그냥 실행시키시면 자동으로 다운로드 됩니다.\n",
    "import os\n",
    "import tqdm\n",
    "files = {\"X_val_enc\":\"1IAvlfsYw13kC6jVUj6jOdqSAwBNQLS3G\",\n",
    "         \"X_train_enc\":\"1rPCnDqif5epOr-F2ypwnoUX9k8TcO4Ia\",\n",
    "         \"X_test_enc\":\"1ctp5kNmNzljgsi1W8X4W7gN3o7y6flUJ\",\n",
    "        \"X_val\":\"1-7CBfLwKpPAqFqA1vq8EZJe1olGw3zsu\",\n",
    "         \"X_train\":\"1-18adV66ZrHnpzsfer6MfS7HU71CT0Cf\",\n",
    "         \"X_test\":\"1-9vV59f_kCgTuh-P-_Nq5uSHzshBCpvT\",\n",
    "         \"y_train\":\"1LH2LoFZg8YgjBHCNvPEGD_ltROLohaYI\",\n",
    "         \"y_test\":\"1-4nHZFlaHKshaa_CE6w36z4gL9bVrz6k\",\n",
    "         \"y_val\":\"1-1N-5ilxadcYtWguUPAS21BbfzUiLgDl\"}\n",
    "print(\"Now starting To download!\")\n",
    "for name, idx in tqdm.tqdm_notebook(files.items()):\n",
    "    os.system(f'wget --load-cookies /tmp/cookies.txt \"https://docs.google.com/uc?export=download&confirm=$(wget --quiet --save-cookies /tmp/cookies.txt --keep-session-cookies --no-check-certificate \"https://docs.google.com/uc?export=download&id={idx}\" -O- | sed -rn \"s/.*confirm=([0-9A-Za-z_]+).*/\\1\\n/p\")&id={idx}\" -O {name}.npy && rm -rf /tmp/cookies.txt')"
   ]
  },
  {
   "cell_type": "code",
   "execution_count": 93,
   "metadata": {
    "executionInfo": {
     "elapsed": 16552,
     "status": "ok",
     "timestamp": 1607579545311,
     "user": {
      "displayName": "고준서",
      "photoUrl": "https://lh3.googleusercontent.com/a-/AOh14Gg7AH0ONy_kdG9u5tOroFVHHJ0bj4Th4wNkRRmRtg=s64",
      "userId": "00253795494504996225"
     },
     "user_tz": -540
    },
    "id": "3PLkyIuZMgtX"
   },
   "outputs": [],
   "source": [
    "import numpy as np\n",
    "\n",
    "X_auto_val = np.load(\"X_val_enc.npy\")\n",
    "X_auto_test = np.load(\"X_test_enc.npy\")\n",
    "X_auto_train = np.load(\"X_train_enc.npy\")\n",
    "\n",
    "X_val = np.load(\"X_val.npy\")\n",
    "X_test = np.load(\"X_test.npy\")\n",
    "X_train = np.load(\"X_train.npy\")\n",
    "\n",
    "y_val = np.load(\"y_val.npy\")\n",
    "y_test = np.load(\"y_test.npy\")\n",
    "y_train = np.load(\"y_train.npy\")"
   ]
  },
  {
   "cell_type": "code",
   "execution_count": 94,
   "metadata": {
    "colab": {
     "base_uri": "https://localhost:8080/"
    },
    "executionInfo": {
     "elapsed": 16010,
     "status": "ok",
     "timestamp": 1607579545311,
     "user": {
      "displayName": "고준서",
      "photoUrl": "https://lh3.googleusercontent.com/a-/AOh14Gg7AH0ONy_kdG9u5tOroFVHHJ0bj4Th4wNkRRmRtg=s64",
      "userId": "00253795494504996225"
     },
     "user_tz": -540
    },
    "id": "ZodzzyhCFihr",
    "outputId": "b727b5df-0bcb-4c32-fed3-0c7a5d83e08b"
   },
   "outputs": [
    {
     "data": {
      "text/plain": [
       "(153, 5000, 12)"
      ]
     },
     "execution_count": 94,
     "metadata": {
      "tags": []
     },
     "output_type": "execute_result"
    }
   ],
   "source": [
    "X_train.shape"
   ]
  },
  {
   "cell_type": "code",
   "execution_count": 95,
   "metadata": {
    "executionInfo": {
     "elapsed": 15444,
     "status": "ok",
     "timestamp": 1607579545312,
     "user": {
      "displayName": "고준서",
      "photoUrl": "https://lh3.googleusercontent.com/a-/AOh14Gg7AH0ONy_kdG9u5tOroFVHHJ0bj4Th4wNkRRmRtg=s64",
      "userId": "00253795494504996225"
     },
     "user_tz": -540
    },
    "id": "wcuU-rIANCaL"
   },
   "outputs": [],
   "source": [
    "from tensorflow.keras.layers import Dropout, Flatten, LSTM, Dense, Input\n",
    "from keras.models import Sequential, Model"
   ]
  },
  {
   "cell_type": "code",
   "execution_count": 130,
   "metadata": {
    "colab": {
     "base_uri": "https://localhost:8080/"
    },
    "executionInfo": {
     "elapsed": 1115,
     "status": "ok",
     "timestamp": 1607579646465,
     "user": {
      "displayName": "고준서",
      "photoUrl": "https://lh3.googleusercontent.com/a-/AOh14Gg7AH0ONy_kdG9u5tOroFVHHJ0bj4Th4wNkRRmRtg=s64",
      "userId": "00253795494504996225"
     },
     "user_tz": -540
    },
    "id": "BNg6xuoENddW",
    "outputId": "cb89ee2c-1b42-4927-beae-bd00b9e6b1cd"
   },
   "outputs": [
    {
     "name": "stdout",
     "output_type": "stream",
     "text": [
      "Model: \"functional_23\"\n",
      "_________________________________________________________________\n",
      "Layer (type)                 Output Shape              Param #   \n",
      "=================================================================\n",
      "input_12 (InputLayer)        [(None, 256, 1)]          0         \n",
      "_________________________________________________________________\n",
      "flatten_11 (Flatten)         (None, 256)               0         \n",
      "_________________________________________________________________\n",
      "dense_26 (Dense)             (None, 4)                 1028      \n",
      "_________________________________________________________________\n",
      "dropout_15 (Dropout)         (None, 4)                 0         \n",
      "_________________________________________________________________\n",
      "dense_27 (Dense)             (None, 2)                 10        \n",
      "=================================================================\n",
      "Total params: 1,038\n",
      "Trainable params: 1,038\n",
      "Non-trainable params: 0\n",
      "_________________________________________________________________\n",
      "None\n"
     ]
    }
   ],
   "source": [
    "xInput = Input(batch_shape=(None, 256, 1))\n",
    "# xLstm = LSTM(8)(xInput)\n",
    "xLstm = Flatten()(xInput)\n",
    "# xLstm = Dense(8, activation = \"relu\")(xLstm)\n",
    "# xLstm = Dropout(0.5)(xLstm)\n",
    "# xLstm = Dense(4, activation = \"relu\")(xLstm)\n",
    "# xLstm = Dropout(0.5)(xLstm)\n",
    "xLstm = Dense(4, activation = \"relu\")(xLstm)\n",
    "xLstm = Dropout(0.5)(xLstm)\n",
    "xOutput = Dense(2, activation = \"softmax\")(xLstm)\n",
    "model = Model(xInput, xOutput)\n",
    "print(model.summary())"
   ]
  },
  {
   "cell_type": "code",
   "execution_count": 131,
   "metadata": {
    "executionInfo": {
     "elapsed": 899,
     "status": "ok",
     "timestamp": 1607579646467,
     "user": {
      "displayName": "고준서",
      "photoUrl": "https://lh3.googleusercontent.com/a-/AOh14Gg7AH0ONy_kdG9u5tOroFVHHJ0bj4Th4wNkRRmRtg=s64",
      "userId": "00253795494504996225"
     },
     "user_tz": -540
    },
    "id": "EjlVWLf2PixV"
   },
   "outputs": [],
   "source": [
    "from tensorflow.keras.utils import to_categorical\n",
    "\n",
    "one_y_train = to_categorical(y_train)\n",
    "one_y_test = to_categorical(y_test)\n",
    "one_y_val = to_categorical(y_val)"
   ]
  },
  {
   "cell_type": "code",
   "execution_count": 136,
   "metadata": {
    "colab": {
     "base_uri": "https://localhost:8080/"
    },
    "executionInfo": {
     "elapsed": 1435,
     "status": "ok",
     "timestamp": 1607579656258,
     "user": {
      "displayName": "고준서",
      "photoUrl": "https://lh3.googleusercontent.com/a-/AOh14Gg7AH0ONy_kdG9u5tOroFVHHJ0bj4Th4wNkRRmRtg=s64",
      "userId": "00253795494504996225"
     },
     "user_tz": -540
    },
    "id": "g34l7-02O3IY",
    "outputId": "ccfc960e-3e69-4f63-d12a-76be1a1503c5"
   },
   "outputs": [
    {
     "name": "stdout",
     "output_type": "stream",
     "text": [
      "Epoch 1/10\n",
      "5/5 [==============================] - 0s 28ms/step - loss: 0.7711 - accuracy: 0.6536 - val_loss: 0.8634 - val_accuracy: 0.3333\n",
      "Epoch 2/10\n",
      "5/5 [==============================] - 0s 6ms/step - loss: 0.8720 - accuracy: 0.6013 - val_loss: 0.8540 - val_accuracy: 0.3333\n",
      "Epoch 3/10\n",
      "5/5 [==============================] - 0s 5ms/step - loss: 0.7242 - accuracy: 0.6340 - val_loss: 0.8484 - val_accuracy: 0.3333\n",
      "Epoch 4/10\n",
      "5/5 [==============================] - 0s 5ms/step - loss: 0.8932 - accuracy: 0.5817 - val_loss: 0.8362 - val_accuracy: 0.3333\n",
      "Epoch 5/10\n",
      "5/5 [==============================] - 0s 5ms/step - loss: 0.8283 - accuracy: 0.5556 - val_loss: 0.8258 - val_accuracy: 0.3704\n",
      "Epoch 6/10\n",
      "5/5 [==============================] - 0s 4ms/step - loss: 0.7087 - accuracy: 0.5752 - val_loss: 0.8174 - val_accuracy: 0.3704\n",
      "Epoch 7/10\n",
      "5/5 [==============================] - 0s 4ms/step - loss: 0.7387 - accuracy: 0.6667 - val_loss: 0.8142 - val_accuracy: 0.4444\n",
      "Epoch 8/10\n",
      "5/5 [==============================] - 0s 5ms/step - loss: 0.6839 - accuracy: 0.6732 - val_loss: 0.8214 - val_accuracy: 0.3704\n",
      "Epoch 9/10\n",
      "5/5 [==============================] - 0s 5ms/step - loss: 0.7794 - accuracy: 0.6405 - val_loss: 0.8267 - val_accuracy: 0.4074\n",
      "Epoch 10/10\n",
      "5/5 [==============================] - 0s 5ms/step - loss: 0.6521 - accuracy: 0.6340 - val_loss: 0.8233 - val_accuracy: 0.4074\n"
     ]
    }
   ],
   "source": [
    "model.compile(loss='binary_crossentropy', optimizer='adam', metrics=[\"accuracy\"])\n",
    "history = model.fit(X_auto_train, one_y_train, epochs=10, validation_data = (X_auto_val, one_y_val), batch_size = 32)"
   ]
  },
  {
   "cell_type": "code",
   "execution_count": 137,
   "metadata": {
    "executionInfo": {
     "elapsed": 1068,
     "status": "ok",
     "timestamp": 1607579656259,
     "user": {
      "displayName": "고준서",
      "photoUrl": "https://lh3.googleusercontent.com/a-/AOh14Gg7AH0ONy_kdG9u5tOroFVHHJ0bj4Th4wNkRRmRtg=s64",
      "userId": "00253795494504996225"
     },
     "user_tz": -540
    },
    "id": "YRrSTZh8TTZz"
   },
   "outputs": [],
   "source": [
    "model.save(\"/content/bestDense1.h5\")\n",
    "# model.save(\"/content/bestDense2.h5\")"
   ]
  },
  {
   "cell_type": "code",
   "execution_count": 138,
   "metadata": {
    "executionInfo": {
     "elapsed": 1193,
     "status": "ok",
     "timestamp": 1607579656642,
     "user": {
      "displayName": "고준서",
      "photoUrl": "https://lh3.googleusercontent.com/a-/AOh14Gg7AH0ONy_kdG9u5tOroFVHHJ0bj4Th4wNkRRmRtg=s64",
      "userId": "00253795494504996225"
     },
     "user_tz": -540
    },
    "id": "tuLDlQRQTV-i"
   },
   "outputs": [],
   "source": [
    "import tensorflow as tf\n",
    "\n",
    "dense1 = tf.keras.models.load_model(\"/content/bestDense1.h5\")\n",
    "# dense2 = tf.keras.models.load_model(\"/content/bestDense2.h5\")"
   ]
  },
  {
   "cell_type": "code",
   "execution_count": 139,
   "metadata": {
    "colab": {
     "base_uri": "https://localhost:8080/"
    },
    "executionInfo": {
     "elapsed": 861,
     "status": "ok",
     "timestamp": 1607579659009,
     "user": {
      "displayName": "고준서",
      "photoUrl": "https://lh3.googleusercontent.com/a-/AOh14Gg7AH0ONy_kdG9u5tOroFVHHJ0bj4Th4wNkRRmRtg=s64",
      "userId": "00253795494504996225"
     },
     "user_tz": -540
    },
    "id": "tLz8w6T9UgqH",
    "outputId": "3fac8ce1-b0c0-49d1-e704-21454384654f"
   },
   "outputs": [
    {
     "name": "stdout",
     "output_type": "stream",
     "text": [
      "WARNING:tensorflow:8 out of the last 16 calls to <function Model.make_predict_function.<locals>.predict_function at 0x7f866fee0730> triggered tf.function retracing. Tracing is expensive and the excessive number of tracings could be due to (1) creating @tf.function repeatedly in a loop, (2) passing tensors with different shapes, (3) passing Python objects instead of tensors. For (1), please define your @tf.function outside of the loop. For (2), @tf.function has experimental_relax_shapes=True option that relaxes argument shapes that can avoid unnecessary retracing. For (3), please refer to https://www.tensorflow.org/tutorials/customization/performance#python_or_tensor_args and https://www.tensorflow.org/api_docs/python/tf/function for  more details.\n",
      "              precision    recall  f1-score   support\n",
      "\n",
      "           0       0.85      0.79      0.81        14\n",
      "           1       0.57      0.67      0.62         6\n",
      "\n",
      "    accuracy                           0.75        20\n",
      "   macro avg       0.71      0.73      0.72        20\n",
      "weighted avg       0.76      0.75      0.75        20\n",
      "\n"
     ]
    }
   ],
   "source": [
    "from sklearn.metrics import classification_report\n",
    "print(classification_report(y_test, np.argmax(dense1.predict([X_auto_test]), axis = 1)))\n",
    "# print(classification_report(y_test, np.argmax(dense2.predict([X_auto_test]), axis = 1)))"
   ]
  },
  {
   "cell_type": "code",
   "execution_count": 149,
   "metadata": {
    "colab": {
     "base_uri": "https://localhost:8080/"
    },
    "executionInfo": {
     "elapsed": 876,
     "status": "ok",
     "timestamp": 1607579682291,
     "user": {
      "displayName": "고준서",
      "photoUrl": "https://lh3.googleusercontent.com/a-/AOh14Gg7AH0ONy_kdG9u5tOroFVHHJ0bj4Th4wNkRRmRtg=s64",
      "userId": "00253795494504996225"
     },
     "user_tz": -540
    },
    "id": "cWKlBh0NJJi-",
    "outputId": "79240eb6-bb69-4b78-ef31-49786aa4a49e"
   },
   "outputs": [
    {
     "name": "stdout",
     "output_type": "stream",
     "text": [
      "Model: \"functional_27\"\n",
      "_________________________________________________________________\n",
      "Layer (type)                 Output Shape              Param #   \n",
      "=================================================================\n",
      "input_14 (InputLayer)        [(None, 60000, 1)]        0         \n",
      "_________________________________________________________________\n",
      "flatten_13 (Flatten)         (None, 60000)             0         \n",
      "_________________________________________________________________\n",
      "dense_30 (Dense)             (None, 4)                 240004    \n",
      "_________________________________________________________________\n",
      "dropout_17 (Dropout)         (None, 4)                 0         \n",
      "_________________________________________________________________\n",
      "dense_31 (Dense)             (None, 2)                 10        \n",
      "=================================================================\n",
      "Total params: 240,014\n",
      "Trainable params: 240,014\n",
      "Non-trainable params: 0\n",
      "_________________________________________________________________\n",
      "None\n"
     ]
    }
   ],
   "source": [
    "xInput = Input(batch_shape=(None, 60000, 1))\n",
    "# xLstm = LSTM(8)(xInput)\n",
    "xLstm = Flatten()(xInput)\n",
    "# xLstm = Dense(8, activation = \"relu\")(xLstm)\n",
    "# xLstm = Dropout(0.5)(xLstm)\n",
    "# xLstm = Dense(4, activation = \"relu\")(xLstm)\n",
    "# xLstm = Dropout(0.5)(xLstm)\n",
    "xLstm = Dense(4, activation = \"relu\")(xLstm)\n",
    "xLstm = Dropout(0.5)(xLstm)\n",
    "xOutput = Dense(2, activation = \"softmax\")(xLstm)\n",
    "model = Model(xInput, xOutput)\n",
    "print(model.summary())"
   ]
  },
  {
   "cell_type": "code",
   "execution_count": 150,
   "metadata": {
    "colab": {
     "base_uri": "https://localhost:8080/"
    },
    "executionInfo": {
     "elapsed": 1956,
     "status": "ok",
     "timestamp": 1607579683912,
     "user": {
      "displayName": "고준서",
      "photoUrl": "https://lh3.googleusercontent.com/a-/AOh14Gg7AH0ONy_kdG9u5tOroFVHHJ0bj4Th4wNkRRmRtg=s64",
      "userId": "00253795494504996225"
     },
     "user_tz": -540
    },
    "id": "N5IuMVxiJMuc",
    "outputId": "67bf110f-c88a-4634-b45e-72fa22dc0a0d"
   },
   "outputs": [
    {
     "name": "stdout",
     "output_type": "stream",
     "text": [
      "Epoch 1/10\n",
      "10/10 [==============================] - 0s 16ms/step - loss: 4.1112 - accuracy: 0.6993 - val_loss: 7.1914 - val_accuracy: 0.5185\n",
      "Epoch 2/10\n",
      "10/10 [==============================] - 0s 6ms/step - loss: 6.0208 - accuracy: 0.5686 - val_loss: 7.9537 - val_accuracy: 0.4815\n",
      "Epoch 3/10\n",
      "10/10 [==============================] - 0s 6ms/step - loss: 4.7050 - accuracy: 0.6536 - val_loss: 8.5700 - val_accuracy: 0.4444\n",
      "Epoch 4/10\n",
      "10/10 [==============================] - 0s 8ms/step - loss: 5.8398 - accuracy: 0.5490 - val_loss: 8.5693 - val_accuracy: 0.4444\n",
      "Epoch 5/10\n",
      "10/10 [==============================] - 0s 8ms/step - loss: 5.8568 - accuracy: 0.5359 - val_loss: 8.5689 - val_accuracy: 0.4444\n",
      "Epoch 6/10\n",
      "10/10 [==============================] - 0s 7ms/step - loss: 5.2615 - accuracy: 0.5882 - val_loss: 8.5684 - val_accuracy: 0.4444\n",
      "Epoch 7/10\n",
      "10/10 [==============================] - 0s 7ms/step - loss: 4.9238 - accuracy: 0.6275 - val_loss: 7.9762 - val_accuracy: 0.4815\n",
      "Epoch 8/10\n",
      "10/10 [==============================] - 0s 6ms/step - loss: 5.1311 - accuracy: 0.5882 - val_loss: 6.8399 - val_accuracy: 0.5556\n",
      "Epoch 9/10\n",
      "10/10 [==============================] - 0s 7ms/step - loss: 4.5584 - accuracy: 0.6144 - val_loss: 6.2948 - val_accuracy: 0.5926\n",
      "Epoch 10/10\n",
      "10/10 [==============================] - 0s 7ms/step - loss: 4.4636 - accuracy: 0.6340 - val_loss: 6.2942 - val_accuracy: 0.5926\n"
     ]
    }
   ],
   "source": [
    "model.compile(loss='binary_crossentropy', optimizer='adam', metrics=[\"accuracy\"])\n",
    "history = model.fit(X_train.reshape(X_train.shape[0], 60000), one_y_train, epochs=10, validation_data = (X_val.reshape(X_val.shape[0], 60000), one_y_val), batch_size = 16)"
   ]
  },
  {
   "cell_type": "code",
   "execution_count": 151,
   "metadata": {
    "executionInfo": {
     "elapsed": 1258,
     "status": "ok",
     "timestamp": 1607579683912,
     "user": {
      "displayName": "고준서",
      "photoUrl": "https://lh3.googleusercontent.com/a-/AOh14Gg7AH0ONy_kdG9u5tOroFVHHJ0bj4Th4wNkRRmRtg=s64",
      "userId": "00253795494504996225"
     },
     "user_tz": -540
    },
    "id": "zMgOjG4IJNB2"
   },
   "outputs": [],
   "source": [
    "model.save(\"/content/bestDenseFull.h5\")\n",
    "# model.save(\"/content/bestDense2.h5\")"
   ]
  },
  {
   "cell_type": "code",
   "execution_count": 152,
   "metadata": {
    "executionInfo": {
     "elapsed": 643,
     "status": "ok",
     "timestamp": 1607579683913,
     "user": {
      "displayName": "고준서",
      "photoUrl": "https://lh3.googleusercontent.com/a-/AOh14Gg7AH0ONy_kdG9u5tOroFVHHJ0bj4Th4wNkRRmRtg=s64",
      "userId": "00253795494504996225"
     },
     "user_tz": -540
    },
    "id": "_fGL8pTuJpmi"
   },
   "outputs": [],
   "source": [
    "import tensorflow as tf\n",
    "\n",
    "densef = tf.keras.models.load_model(\"/content/bestDenseFull.h5\")\n",
    "# dense2 = tf.keras.models.load_model(\"/content/bestDense2.h5\")"
   ]
  },
  {
   "cell_type": "code",
   "execution_count": 153,
   "metadata": {
    "colab": {
     "base_uri": "https://localhost:8080/"
    },
    "executionInfo": {
     "elapsed": 1310,
     "status": "ok",
     "timestamp": 1607579686411,
     "user": {
      "displayName": "고준서",
      "photoUrl": "https://lh3.googleusercontent.com/a-/AOh14Gg7AH0ONy_kdG9u5tOroFVHHJ0bj4Th4wNkRRmRtg=s64",
      "userId": "00253795494504996225"
     },
     "user_tz": -540
    },
    "id": "c5NRz45JJsug",
    "outputId": "307ea199-5212-48e8-b572-71c807af2131"
   },
   "outputs": [
    {
     "name": "stdout",
     "output_type": "stream",
     "text": [
      "WARNING:tensorflow:9 out of the last 11 calls to <function Model.make_predict_function.<locals>.predict_function at 0x7f867053c510> triggered tf.function retracing. Tracing is expensive and the excessive number of tracings could be due to (1) creating @tf.function repeatedly in a loop, (2) passing tensors with different shapes, (3) passing Python objects instead of tensors. For (1), please define your @tf.function outside of the loop. For (2), @tf.function has experimental_relax_shapes=True option that relaxes argument shapes that can avoid unnecessary retracing. For (3), please refer to https://www.tensorflow.org/tutorials/customization/performance#python_or_tensor_args and https://www.tensorflow.org/api_docs/python/tf/function for  more details.\n",
      "              precision    recall  f1-score   support\n",
      "\n",
      "           0       0.80      0.57      0.67        14\n",
      "           1       0.40      0.67      0.50         6\n",
      "\n",
      "    accuracy                           0.60        20\n",
      "   macro avg       0.60      0.62      0.58        20\n",
      "weighted avg       0.68      0.60      0.62        20\n",
      "\n"
     ]
    }
   ],
   "source": [
    "from sklearn.metrics import classification_report\n",
    "print(classification_report(y_test, np.argmax(densef.predict([X_test.reshape(20, 60000)]), axis = 1)))\n",
    "# print(classification_report(y_test, np.argmax(dense2.predict([X_auto_test]), axis = 1)))"
   ]
  },
  {
   "cell_type": "code",
   "execution_count": 154,
   "metadata": {
    "executionInfo": {
     "elapsed": 896,
     "status": "ok",
     "timestamp": 1607579692144,
     "user": {
      "displayName": "고준서",
      "photoUrl": "https://lh3.googleusercontent.com/a-/AOh14Gg7AH0ONy_kdG9u5tOroFVHHJ0bj4Th4wNkRRmRtg=s64",
      "userId": "00253795494504996225"
     },
     "user_tz": -540
    },
    "id": "W3_UV4OuVNbU"
   },
   "outputs": [],
   "source": [
    "## Evaluation Function\n",
    "\n",
    "from sklearn.metrics import classification_report, confusion_matrix, roc_curve, auc\n",
    "import seaborn as sns\n",
    "import pandas as pd\n",
    "import matplotlib.pyplot as plt\n",
    "\n",
    "def evaluation(y_true, y_pred, model_name = \"Temp Name\"): \n",
    "    print(classification_report(y_true, y_pred))\n",
    "\n",
    "    plt.figure(figsize=[8,8])\n",
    "    plt.title(model_name+\" confusion matrix\", fontsize = 20)\n",
    "    labels = [\"Positive\", \"Negative\"]\n",
    "    conf_m = pd.DataFrame(confusion_matrix(y_true, y_pred), index = labels, columns = labels)\n",
    "    ax = sns.heatmap(conf_m, cmap=\"Blues\", annot=True,fmt='5')\n",
    "    plt.yticks(va=\"center\")\n",
    "    plt.savefig(\"/content/\"+model_name+\"_confusion_matrix.pdf\")\n",
    "    plt.savefig(\"/content/\"+model_name+\"_confusion_matrix.jpg\")\n",
    "\n",
    "def AUROC_Curve(y_true, y_pred_softmax, model_name):\n",
    "    fpr, tpr, thresholds = roc_curve(y_true, y_pred_softmax)\n",
    "    roc_auc = auc(fpr, tpr)\n",
    "    plt.figure()\n",
    "    plt.plot(fpr, tpr, label='ROC curve (area = %0.2f)' % roc_auc)\n",
    "    plt.plot([0, 1], [0, 1], 'k--')\n",
    "    plt.xlim([-0.01, 1.0])\n",
    "    plt.ylim([0.0, 1.02])\n",
    "    plt.xlabel('False Positive Rate')\n",
    "    plt.ylabel('True Positive Rate')\n",
    "    plt.title(model_name)\n",
    "    plt.legend(loc=\"lower right\")\n",
    "    plt.savefig(\"/content/\"+model_name+\"_auroc_curve.pdf\")\n",
    "    plt.savefig(\"/content/\"+model_name+\"_auroc_curve.jpg\")\n",
    "    plt.show()"
   ]
  },
  {
   "cell_type": "code",
   "execution_count": 155,
   "metadata": {
    "executionInfo": {
     "elapsed": 972,
     "status": "ok",
     "timestamp": 1607579693057,
     "user": {
      "displayName": "고준서",
      "photoUrl": "https://lh3.googleusercontent.com/a-/AOh14Gg7AH0ONy_kdG9u5tOroFVHHJ0bj4Th4wNkRRmRtg=s64",
      "userId": "00253795494504996225"
     },
     "user_tz": -540
    },
    "id": "KLAm75afVss_"
   },
   "outputs": [],
   "source": [
    "y_pred_softmax = dense1.predict([X_auto_test])\n",
    "y_pred = np.argmax(y_pred_softmax,axis = 1)"
   ]
  },
  {
   "cell_type": "markdown",
   "metadata": {},
   "source": [
    "# 인코딩된 데이터의 결과"
   ]
  },
  {
   "cell_type": "code",
   "execution_count": 156,
   "metadata": {
    "colab": {
     "base_uri": "https://localhost:8080/",
     "height": 657
    },
    "executionInfo": {
     "elapsed": 1084,
     "status": "ok",
     "timestamp": 1607579693442,
     "user": {
      "displayName": "고준서",
      "photoUrl": "https://lh3.googleusercontent.com/a-/AOh14Gg7AH0ONy_kdG9u5tOroFVHHJ0bj4Th4wNkRRmRtg=s64",
      "userId": "00253795494504996225"
     },
     "user_tz": -540
    },
    "id": "j8VeHVgKV3ZF",
    "outputId": "c995233f-337d-47ee-8a08-5080b143dd8d"
   },
   "outputs": [
    {
     "name": "stdout",
     "output_type": "stream",
     "text": [
      "              precision    recall  f1-score   support\n",
      "\n",
      "           0       0.85      0.79      0.81        14\n",
      "           1       0.57      0.67      0.62         6\n",
      "\n",
      "    accuracy                           0.75        20\n",
      "   macro avg       0.71      0.73      0.72        20\n",
      "weighted avg       0.76      0.75      0.75        20\n",
      "\n"
     ]
    },
    {
     "data": {
      "image/png": "[encoded data removed]",
      "text/plain": [
       "<Figure size 576x576 with 2 Axes>"
      ]
     },
     "metadata": {
      "needs_background": "light",
      "tags": []
     },
     "output_type": "display_data"
    }
   ],
   "source": [
    "evaluation(y_test , y_pred , \"DenseNet Encoded\")"
   ]
  },
  {
   "cell_type": "code",
   "execution_count": 157,
   "metadata": {
    "colab": {
     "base_uri": "https://localhost:8080/",
     "height": 295
    },
    "executionInfo": {
     "elapsed": 1082,
     "status": "ok",
     "timestamp": 1607579694961,
     "user": {
      "displayName": "고준서",
      "photoUrl": "https://lh3.googleusercontent.com/a-/AOh14Gg7AH0ONy_kdG9u5tOroFVHHJ0bj4Th4wNkRRmRtg=s64",
      "userId": "00253795494504996225"
     },
     "user_tz": -540
    },
    "id": "Hs8eWnnwV_Nc",
    "outputId": "dccae52f-5423-478d-83cf-8276e28b4d34"
   },
   "outputs": [
    {
     "data": {
      "image/png": "[encoded data removed]",
      "text/plain": [
       "<Figure size 432x288 with 1 Axes>"
      ]
     },
     "metadata": {
      "needs_background": "light",
      "tags": []
     },
     "output_type": "display_data"
    }
   ],
   "source": [
    "# roc_curve(y_test, y_pred_softmax)\n",
    "AUROC_Curve(y_test, y_pred_softmax[:,1], \"Dense Encoded Best\")"
   ]
  },
  {
   "cell_type": "code",
   "execution_count": 158,
   "metadata": {
    "executionInfo": {
     "elapsed": 1018,
     "status": "ok",
     "timestamp": 1607579695362,
     "user": {
      "displayName": "고준서",
      "photoUrl": "https://lh3.googleusercontent.com/a-/AOh14Gg7AH0ONy_kdG9u5tOroFVHHJ0bj4Th4wNkRRmRtg=s64",
      "userId": "00253795494504996225"
     },
     "user_tz": -540
    },
    "id": "WBvROyALWYgO"
   },
   "outputs": [],
   "source": [
    "y_pred_softmax = densef.predict([X_test.reshape([20, 60000])])\n",
    "y_pred = np.argmax(y_pred_softmax,axis = 1)"
   ]
  },
  {
   "cell_type": "markdown",
   "metadata": {},
   "source": [
    "# 인코딩 안된 데이터의 결과"
   ]
  },
  {
   "cell_type": "code",
   "execution_count": 159,
   "metadata": {
    "colab": {
     "base_uri": "https://localhost:8080/",
     "height": 657
    },
    "executionInfo": {
     "elapsed": 1112,
     "status": "ok",
     "timestamp": 1607579695867,
     "user": {
      "displayName": "고준서",
      "photoUrl": "https://lh3.googleusercontent.com/a-/AOh14Gg7AH0ONy_kdG9u5tOroFVHHJ0bj4Th4wNkRRmRtg=s64",
      "userId": "00253795494504996225"
     },
     "user_tz": -540
    },
    "id": "Rw5XiY70KxdY",
    "outputId": "3fdbce26-50f5-49c3-b407-4be046f35985"
   },
   "outputs": [
    {
     "name": "stdout",
     "output_type": "stream",
     "text": [
      "              precision    recall  f1-score   support\n",
      "\n",
      "           0       0.80      0.57      0.67        14\n",
      "           1       0.40      0.67      0.50         6\n",
      "\n",
      "    accuracy                           0.60        20\n",
      "   macro avg       0.60      0.62      0.58        20\n",
      "weighted avg       0.68      0.60      0.62        20\n",
      "\n"
     ]
    },
    {
     "data": {
      "image/png": "[encoded data removed]",
      "text/plain": [
       "<Figure size 576x576 with 2 Axes>"
      ]
     },
     "metadata": {
      "needs_background": "light",
      "tags": []
     },
     "output_type": "display_data"
    }
   ],
   "source": [
    "evaluation(y_test , y_pred , \"DenseNet Full\")"
   ]
  },
  {
   "cell_type": "code",
   "execution_count": 160,
   "metadata": {
    "colab": {
     "base_uri": "https://localhost:8080/",
     "height": 295
    },
    "executionInfo": {
     "elapsed": 886,
     "status": "ok",
     "timestamp": 1607579714959,
     "user": {
      "displayName": "고준서",
      "photoUrl": "https://lh3.googleusercontent.com/a-/AOh14Gg7AH0ONy_kdG9u5tOroFVHHJ0bj4Th4wNkRRmRtg=s64",
      "userId": "00253795494504996225"
     },
     "user_tz": -540
    },
    "id": "3PGs3wokKzfd",
    "outputId": "7e001b54-8f86-4805-be0b-84362cd380cf"
   },
   "outputs": [
    {
     "data": {
      "image/png": "[encoded data removed]",
      "text/plain": [
       "<Figure size 432x288 with 1 Axes>"
      ]
     },
     "metadata": {
      "needs_background": "light",
      "tags": []
     },
     "output_type": "display_data"
    }
   ],
   "source": [
    "# roc_curve(y_test, y_pred_softmax)\n",
    "AUROC_Curve(y_test, y_pred_softmax[:,1], \"Dense Full Best\")"
   ]
  },
  {
   "cell_type": "code",
   "execution_count": null,
   "metadata": {
    "id": "pp81674OK03Q"
   },
   "outputs": [],
   "source": []
  }
 ],
 "metadata": {
  "colab": {
   "authorship_tag": "ABX9TyOxNC/M7YSM9QJnipSpuT5r",
   "name": "Group4_code3_4_Dense.ipynb",
   "provenance": []
  },
  "kernelspec": {
   "display_name": "Python 3",
   "language": "python",
   "name": "python3"
  },
  "language_info": {
   "codemirror_mode": {
    "name": "ipython",
    "version": 3
   },
   "file_extension": ".py",
   "mimetype": "text/x-python",
   "name": "python",
   "nbconvert_exporter": "python",
   "pygments_lexer": "ipython3",
   "version": "3.7.6"
  },
  "widgets": {
   "application/vnd.jupyter.widget-state+json": {
    "088e18bef93c4945a0991d7e7c84e302": {
     "model_module": "@jupyter-widgets/controls",
     "model_name": "DescriptionStyleModel",
     "state": {
      "_model_module": "@jupyter-widgets/controls",
      "_model_module_version": "1.5.0",
      "_model_name": "DescriptionStyleModel",
      "_view_count": null,
      "_view_module": "@jupyter-widgets/base",
      "_view_module_version": "1.2.0",
      "_view_name": "StyleView",
      "description_width": ""
     }
    },
    "25aee7e88d50462eaa52196d80682b8c": {
     "model_module": "@jupyter-widgets/controls",
     "model_name": "HTMLModel",
     "state": {
      "_dom_classes": [],
      "_model_module": "@jupyter-widgets/controls",
      "_model_module_version": "1.5.0",
      "_model_name": "HTMLModel",
      "_view_count": null,
      "_view_module": "@jupyter-widgets/controls",
      "_view_module_version": "1.5.0",
      "_view_name": "HTMLView",
      "description": "",
      "description_tooltip": null,
      "layout": "IPY_MODEL_8b315235603a48fbb94158de3f794d68",
      "placeholder": "​",
      "style": "IPY_MODEL_088e18bef93c4945a0991d7e7c84e302",
      "value": " 9/9 [00:18&lt;00:00,  2.01s/it]"
     }
    },
    "69540fbb78c244218479ef1068bff917": {
     "model_module": "@jupyter-widgets/controls",
     "model_name": "FloatProgressModel",
     "state": {
      "_dom_classes": [],
      "_model_module": "@jupyter-widgets/controls",
      "_model_module_version": "1.5.0",
      "_model_name": "FloatProgressModel",
      "_view_count": null,
      "_view_module": "@jupyter-widgets/controls",
      "_view_module_version": "1.5.0",
      "_view_name": "ProgressView",
      "bar_style": "success",
      "description": "100%",
      "description_tooltip": null,
      "layout": "IPY_MODEL_d28d9d50a5544651b947180b3327dd7c",
      "max": 9,
      "min": 0,
      "orientation": "horizontal",
      "style": "IPY_MODEL_b3a58f57455143db967f75637524590f",
      "value": 9
     }
    },
    "8b315235603a48fbb94158de3f794d68": {
     "model_module": "@jupyter-widgets/base",
     "model_name": "LayoutModel",
     "state": {
      "_model_module": "@jupyter-widgets/base",
      "_model_module_version": "1.2.0",
      "_model_name": "LayoutModel",
      "_view_count": null,
      "_view_module": "@jupyter-widgets/base",
      "_view_module_version": "1.2.0",
      "_view_name": "LayoutView",
      "align_content": null,
      "align_items": null,
      "align_self": null,
      "border": null,
      "bottom": null,
      "display": null,
      "flex": null,
      "flex_flow": null,
      "grid_area": null,
      "grid_auto_columns": null,
      "grid_auto_flow": null,
      "grid_auto_rows": null,
      "grid_column": null,
      "grid_gap": null,
      "grid_row": null,
      "grid_template_areas": null,
      "grid_template_columns": null,
      "grid_template_rows": null,
      "height": null,
      "justify_content": null,
      "justify_items": null,
      "left": null,
      "margin": null,
      "max_height": null,
      "max_width": null,
      "min_height": null,
      "min_width": null,
      "object_fit": null,
      "object_position": null,
      "order": null,
      "overflow": null,
      "overflow_x": null,
      "overflow_y": null,
      "padding": null,
      "right": null,
      "top": null,
      "visibility": null,
      "width": null
     }
    },
    "b3a58f57455143db967f75637524590f": {
     "model_module": "@jupyter-widgets/controls",
     "model_name": "ProgressStyleModel",
     "state": {
      "_model_module": "@jupyter-widgets/controls",
      "_model_module_version": "1.5.0",
      "_model_name": "ProgressStyleModel",
      "_view_count": null,
      "_view_module": "@jupyter-widgets/base",
      "_view_module_version": "1.2.0",
      "_view_name": "StyleView",
      "bar_color": null,
      "description_width": "initial"
     }
    },
    "cb276a35f8ec487fa1732f07b8cee1a8": {
     "model_module": "@jupyter-widgets/controls",
     "model_name": "HBoxModel",
     "state": {
      "_dom_classes": [],
      "_model_module": "@jupyter-widgets/controls",
      "_model_module_version": "1.5.0",
      "_model_name": "HBoxModel",
      "_view_count": null,
      "_view_module": "@jupyter-widgets/controls",
      "_view_module_version": "1.5.0",
      "_view_name": "HBoxView",
      "box_style": "",
      "children": [
       "IPY_MODEL_69540fbb78c244218479ef1068bff917",
       "IPY_MODEL_25aee7e88d50462eaa52196d80682b8c"
      ],
      "layout": "IPY_MODEL_ed0cb2997cb142c4959adc89f430287f"
     }
    },
    "d28d9d50a5544651b947180b3327dd7c": {
     "model_module": "@jupyter-widgets/base",
     "model_name": "LayoutModel",
     "state": {
      "_model_module": "@jupyter-widgets/base",
      "_model_module_version": "1.2.0",
      "_model_name": "LayoutModel",
      "_view_count": null,
      "_view_module": "@jupyter-widgets/base",
      "_view_module_version": "1.2.0",
      "_view_name": "LayoutView",
      "align_content": null,
      "align_items": null,
      "align_self": null,
      "border": null,
      "bottom": null,
      "display": null,
      "flex": null,
      "flex_flow": null,
      "grid_area": null,
      "grid_auto_columns": null,
      "grid_auto_flow": null,
      "grid_auto_rows": null,
      "grid_column": null,
      "grid_gap": null,
      "grid_row": null,
      "grid_template_areas": null,
      "grid_template_columns": null,
      "grid_template_rows": null,
      "height": null,
      "justify_content": null,
      "justify_items": null,
      "left": null,
      "margin": null,
      "max_height": null,
      "max_width": null,
      "min_height": null,
      "min_width": null,
      "object_fit": null,
      "object_position": null,
      "order": null,
      "overflow": null,
      "overflow_x": null,
      "overflow_y": null,
      "padding": null,
      "right": null,
      "top": null,
      "visibility": null,
      "width": null
     }
    },
    "ed0cb2997cb142c4959adc89f430287f": {
     "model_module": "@jupyter-widgets/base",
     "model_name": "LayoutModel",
     "state": {
      "_model_module": "@jupyter-widgets/base",
      "_model_module_version": "1.2.0",
      "_model_name": "LayoutModel",
      "_view_count": null,
      "_view_module": "@jupyter-widgets/base",
      "_view_module_version": "1.2.0",
      "_view_name": "LayoutView",
      "align_content": null,
      "align_items": null,
      "align_self": null,
      "border": null,
      "bottom": null,
      "display": null,
      "flex": null,
      "flex_flow": null,
      "grid_area": null,
      "grid_auto_columns": null,
      "grid_auto_flow": null,
      "grid_auto_rows": null,
      "grid_column": null,
      "grid_gap": null,
      "grid_row": null,
      "grid_template_areas": null,
      "grid_template_columns": null,
      "grid_template_rows": null,
      "height": null,
      "justify_content": null,
      "justify_items": null,
      "left": null,
      "margin": null,
      "max_height": null,
      "max_width": null,
      "min_height": null,
      "min_width": null,
      "object_fit": null,
      "object_position": null,
      "order": null,
      "overflow": null,
      "overflow_x": null,
      "overflow_y": null,
      "padding": null,
      "right": null,
      "top": null,
      "visibility": null,
      "width": null
     }
    }
   }
  }
 },
 "nbformat": 4,
 "nbformat_minor": 1
}
