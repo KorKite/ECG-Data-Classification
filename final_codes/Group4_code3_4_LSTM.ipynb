{
 "cells": [
  {
   "cell_type": "markdown",
   "metadata": {},
   "source": [
    "# LSTM을 사용하여 훈련한 네트워크를 실험하기 위한 코드"
   ]
  },
  {
   "cell_type": "code",
   "execution_count": 1,
   "metadata": {
    "colab": {
     "base_uri": "https://localhost:8080/",
     "height": 139,
     "referenced_widgets": [
      "2ad3d8f743314b4b87b8f40f936730f0",
      "7f0a246d57b84a148f360ae75512fb9a",
      "fbcf3520084f4057934f1d2aed350898",
      "4686c10898164f36921c4835618d3a9c",
      "55bf688f3bab4dfe8176cff4325d5edb",
      "0fd3503bd37c4320bdc92ed23d156e8d",
      "dacf2ed2421e4b86bcfedeb92d021774",
      "50c51d79ae1d43f8b1d1fec894e6a6c7"
     ]
    },
    "executionInfo": {
     "elapsed": 20472,
     "status": "ok",
     "timestamp": 1607583934441,
     "user": {
      "displayName": "Kyuree Jeon",
      "photoUrl": "",
      "userId": "13887850148471054597"
     },
     "user_tz": -540
    },
    "id": "ixL7gQd-MRmv",
    "outputId": "c7be3a9f-dc84-48b7-8d63-233c8866bd8e"
   },
   "outputs": [
    {
     "name": "stdout",
     "output_type": "stream",
     "text": [
      "Now starting To download!\n"
     ]
    },
    {
     "name": "stderr",
     "output_type": "stream",
     "text": [
      "/usr/local/lib/python3.6/dist-packages/ipykernel_launcher.py:14: TqdmDeprecationWarning: This function will be removed in tqdm==5.0.0\n",
      "Please use `tqdm.notebook.tqdm` instead of `tqdm.tqdm_notebook`\n",
      "  \n"
     ]
    },
    {
     "data": {
      "application/vnd.jupyter.widget-view+json": {
       "model_id": "2ad3d8f743314b4b87b8f40f936730f0",
       "version_major": 2,
       "version_minor": 0
      },
      "text/plain": [
       "HBox(children=(FloatProgress(value=0.0, max=9.0), HTML(value='')))"
      ]
     },
     "metadata": {
      "tags": []
     },
     "output_type": "display_data"
    },
    {
     "name": "stdout",
     "output_type": "stream",
     "text": [
      "\n"
     ]
    }
   ],
   "source": [
    "#그냥 실행시키시면 자동으로 다운로드 됩니다.\n",
    "import os\n",
    "import tqdm\n",
    "files = {\"X_val_enc\":\"1IAvlfsYw13kC6jVUj6jOdqSAwBNQLS3G\",\n",
    "         \"X_train_enc\":\"1rPCnDqif5epOr-F2ypwnoUX9k8TcO4Ia\",\n",
    "         \"X_test_enc\":\"1ctp5kNmNzljgsi1W8X4W7gN3o7y6flUJ\",\n",
    "        \"X_val\":\"1-7CBfLwKpPAqFqA1vq8EZJe1olGw3zsu\",\n",
    "         \"X_train\":\"1-18adV66ZrHnpzsfer6MfS7HU71CT0Cf\",\n",
    "         \"X_test\":\"1-9vV59f_kCgTuh-P-_Nq5uSHzshBCpvT\",\n",
    "         \"y_train\":\"1LH2LoFZg8YgjBHCNvPEGD_ltROLohaYI\",\n",
    "         \"y_test\":\"1-4nHZFlaHKshaa_CE6w36z4gL9bVrz6k\",\n",
    "         \"y_val\":\"1-1N-5ilxadcYtWguUPAS21BbfzUiLgDl\"}\n",
    "print(\"Now starting To download!\")\n",
    "for name, idx in tqdm.tqdm_notebook(files.items()):\n",
    "    os.system(f'wget --load-cookies /tmp/cookies.txt \"https://docs.google.com/uc?export=download&confirm=$(wget --quiet --save-cookies /tmp/cookies.txt --keep-session-cookies --no-check-certificate \"https://docs.google.com/uc?export=download&id={idx}\" -O- | sed -rn \"s/.*confirm=([0-9A-Za-z_]+).*/\\1\\n/p\")&id={idx}\" -O {name}.npy && rm -rf /tmp/cookies.txt')"
   ]
  },
  {
   "cell_type": "code",
   "execution_count": null,
   "metadata": {
    "id": "3PLkyIuZMgtX"
   },
   "outputs": [],
   "source": [
    "import numpy as np\n",
    "\n",
    "X_auto_val = np.load(\"X_val_enc.npy\")\n",
    "X_auto_test = np.load(\"X_test_enc.npy\")\n",
    "X_auto_train = np.load(\"X_train_enc.npy\")\n",
    "\n",
    "X_val = np.load(\"X_val.npy\")\n",
    "X_test = np.load(\"X_test.npy\")\n",
    "X_train = np.load(\"X_train.npy\")\n",
    "\n",
    "y_val = np.load(\"y_val.npy\")\n",
    "y_test = np.load(\"y_test.npy\")\n",
    "y_train = np.load(\"y_train.npy\")"
   ]
  },
  {
   "cell_type": "code",
   "execution_count": null,
   "metadata": {
    "id": "wcuU-rIANCaL"
   },
   "outputs": [],
   "source": [
    "from tensorflow.keras.layers import Dropout, Flatten, LSTM, Dense, Input\n",
    "from keras.models import Sequential, Model"
   ]
  },
  {
   "cell_type": "code",
   "execution_count": null,
   "metadata": {
    "colab": {
     "base_uri": "https://localhost:8080/"
    },
    "executionInfo": {
     "elapsed": 798,
     "status": "ok",
     "timestamp": 1607347402332,
     "user": {
      "displayName": "고준서",
      "photoUrl": "https://lh3.googleusercontent.com/a-/AOh14Gg7AH0ONy_kdG9u5tOroFVHHJ0bj4Th4wNkRRmRtg=s64",
      "userId": "00253795494504996225"
     },
     "user_tz": -540
    },
    "id": "BNg6xuoENddW",
    "outputId": "97abc985-6ccb-4ed1-858d-4399d165215f"
   },
   "outputs": [
    {
     "name": "stdout",
     "output_type": "stream",
     "text": [
      "Model: \"functional_13\"\n",
      "_________________________________________________________________\n",
      "Layer (type)                 Output Shape              Param #   \n",
      "=================================================================\n",
      "input_7 (InputLayer)         [(None, 256, 1)]          0         \n",
      "_________________________________________________________________\n",
      "lstm_5 (LSTM)                (None, 4)                 96        \n",
      "_________________________________________________________________\n",
      "dropout_11 (Dropout)         (None, 4)                 0         \n",
      "_________________________________________________________________\n",
      "dense_15 (Dense)             (None, 2)                 10        \n",
      "=================================================================\n",
      "Total params: 106\n",
      "Trainable params: 106\n",
      "Non-trainable params: 0\n",
      "_________________________________________________________________\n",
      "None\n"
     ]
    }
   ],
   "source": [
    "xInput = Input(batch_shape=(None, 256, 1))\n",
    "xLstm = LSTM(4)(xInput)\n",
    "xLstm = Dropout(0.5)(xLstm)\n",
    "xOutput = Dense(2, activation = \"softmax\")(xLstm)\n",
    "model = Model(xInput, xOutput)\n",
    "print(model.summary())"
   ]
  },
  {
   "cell_type": "code",
   "execution_count": null,
   "metadata": {
    "id": "EjlVWLf2PixV"
   },
   "outputs": [],
   "source": [
    "from tensorflow.keras.utils import to_categorical\n",
    "\n",
    "one_y_train = to_categorical(y_train)\n",
    "one_y_test = to_categorical(y_test)\n",
    "one_y_val = to_categorical(y_val)"
   ]
  },
  {
   "cell_type": "code",
   "execution_count": null,
   "metadata": {
    "colab": {
     "base_uri": "https://localhost:8080/"
    },
    "executionInfo": {
     "elapsed": 4723,
     "status": "ok",
     "timestamp": 1607347406987,
     "user": {
      "displayName": "고준서",
      "photoUrl": "https://lh3.googleusercontent.com/a-/AOh14Gg7AH0ONy_kdG9u5tOroFVHHJ0bj4Th4wNkRRmRtg=s64",
      "userId": "00253795494504996225"
     },
     "user_tz": -540
    },
    "id": "g34l7-02O3IY",
    "outputId": "e35e3ac0-5831-495a-9a8c-d026d0341eb9"
   },
   "outputs": [
    {
     "name": "stdout",
     "output_type": "stream",
     "text": [
      "Epoch 1/2\n",
      "10/10 [==============================] - 1s 105ms/step - loss: 0.7133 - accuracy: 0.4444 - val_loss: 0.7020 - val_accuracy: 0.3704\n",
      "Epoch 2/2\n",
      "10/10 [==============================] - 1s 64ms/step - loss: 0.7068 - accuracy: 0.5229 - val_loss: 0.6934 - val_accuracy: 0.5185\n"
     ]
    }
   ],
   "source": [
    "model.compile(loss='binary_crossentropy', optimizer='adam', metrics=[\"accuracy\"])\n",
    "history = model.fit(X_auto_train, one_y_train, epochs=2, validation_data = (X_auto_val, one_y_val), batch_size = 16)"
   ]
  },
  {
   "cell_type": "code",
   "execution_count": null,
   "metadata": {
    "colab": {
     "base_uri": "https://localhost:8080/"
    },
    "executionInfo": {
     "elapsed": 1435,
     "status": "ok",
     "timestamp": 1607347411997,
     "user": {
      "displayName": "고준서",
      "photoUrl": "https://lh3.googleusercontent.com/a-/AOh14Gg7AH0ONy_kdG9u5tOroFVHHJ0bj4Th4wNkRRmRtg=s64",
      "userId": "00253795494504996225"
     },
     "user_tz": -540
    },
    "id": "wPcXSeixXZ14",
    "outputId": "d684dd6d-3e95-4c61-ab7c-c34d2ddcf9d0"
   },
   "outputs": [
    {
     "name": "stdout",
     "output_type": "stream",
     "text": [
      "              precision    recall  f1-score   support\n",
      "\n",
      "           0       0.71      0.71      0.71        14\n",
      "           1       0.33      0.33      0.33         6\n",
      "\n",
      "    accuracy                           0.60        20\n",
      "   macro avg       0.52      0.52      0.52        20\n",
      "weighted avg       0.60      0.60      0.60        20\n",
      "\n"
     ]
    }
   ],
   "source": [
    "from sklearn.metrics import classification_report\n",
    "print(classification_report(y_test, np.argmax(model.predict([X_auto_test]), axis = 1)))"
   ]
  },
  {
   "cell_type": "code",
   "execution_count": null,
   "metadata": {
    "id": "YRrSTZh8TTZz"
   },
   "outputs": [],
   "source": [
    "model.save(\"/content/bestLSTM.h5\")"
   ]
  },
  {
   "cell_type": "code",
   "execution_count": null,
   "metadata": {
    "id": "tuLDlQRQTV-i"
   },
   "outputs": [],
   "source": [
    "import tensorflow as tf\n",
    "\n",
    "LSTM = tf.keras.models.load_model(\"/content/bestLSTM.h5\")"
   ]
  },
  {
   "cell_type": "code",
   "execution_count": null,
   "metadata": {
    "colab": {
     "base_uri": "https://localhost:8080/"
    },
    "executionInfo": {
     "elapsed": 1033,
     "status": "ok",
     "timestamp": 1607347438822,
     "user": {
      "displayName": "고준서",
      "photoUrl": "https://lh3.googleusercontent.com/a-/AOh14Gg7AH0ONy_kdG9u5tOroFVHHJ0bj4Th4wNkRRmRtg=s64",
      "userId": "00253795494504996225"
     },
     "user_tz": -540
    },
    "id": "tLz8w6T9UgqH",
    "outputId": "43f8fed0-9abe-425d-e20f-1098d30a56df"
   },
   "outputs": [
    {
     "name": "stdout",
     "output_type": "stream",
     "text": [
      "WARNING:tensorflow:5 out of the last 5 calls to <function Model.make_predict_function.<locals>.predict_function at 0x7fceb4497ea0> triggered tf.function retracing. Tracing is expensive and the excessive number of tracings could be due to (1) creating @tf.function repeatedly in a loop, (2) passing tensors with different shapes, (3) passing Python objects instead of tensors. For (1), please define your @tf.function outside of the loop. For (2), @tf.function has experimental_relax_shapes=True option that relaxes argument shapes that can avoid unnecessary retracing. For (3), please refer to https://www.tensorflow.org/tutorials/customization/performance#python_or_tensor_args and https://www.tensorflow.org/api_docs/python/tf/function for  more details.\n",
      "              precision    recall  f1-score   support\n",
      "\n",
      "           0       0.71      0.71      0.71        14\n",
      "           1       0.33      0.33      0.33         6\n",
      "\n",
      "    accuracy                           0.60        20\n",
      "   macro avg       0.52      0.52      0.52        20\n",
      "weighted avg       0.60      0.60      0.60        20\n",
      "\n"
     ]
    }
   ],
   "source": [
    "print(classification_report(y_test, np.argmax(LSTM.predict([X_auto_test]), axis = 1)))"
   ]
  },
  {
   "cell_type": "code",
   "execution_count": null,
   "metadata": {
    "id": "W3_UV4OuVNbU"
   },
   "outputs": [],
   "source": [
    "## Evaluation Function\n",
    "\n",
    "from sklearn.metrics import classification_report, confusion_matrix, roc_curve, auc\n",
    "import seaborn as sns\n",
    "import pandas as pd\n",
    "import matplotlib.pyplot as plt\n",
    "\n",
    "def evaluation(y_true, y_pred, model_name = \"Temp Name\"): \n",
    "    print(classification_report(y_true, y_pred))\n",
    "\n",
    "    plt.figure(figsize=[8,8])\n",
    "    plt.title(model_name+\" confusion matrix\", fontsize = 20)\n",
    "    labels = [\"Negative\", \"Positive\"]\n",
    "    conf_m = pd.DataFrame(confusion_matrix(y_true, y_pred), index = labels, columns = labels)\n",
    "    ax = sns.heatmap(conf_m, cmap=\"Blues\", annot=True,fmt='5')\n",
    "    plt.yticks(va=\"center\")\n",
    "    plt.savefig(\"/content/\"+model_name+\"_confusion_matrix.pdf\")\n",
    "    plt.savefig(\"/content/\"+model_name+\"_confusion_matrix.jpg\")\n",
    "\n",
    "def AUROC_Curve(y_true, y_pred_softmax, model_name):\n",
    "    fpr, tpr, thresholds = roc_curve(y_true, y_pred_softmax)\n",
    "    roc_auc = auc(fpr, tpr)\n",
    "    plt.figure()\n",
    "    plt.plot(fpr, tpr, label='ROC curve (area = %0.2f)' % roc_auc)\n",
    "    plt.plot([0, 1], [0, 1], 'k--')\n",
    "    plt.xlim([-0.01, 1.0])\n",
    "    plt.ylim([0.0, 1.02])\n",
    "    plt.xlabel('False Positive Rate')\n",
    "    plt.ylabel('True Positive Rate')\n",
    "    plt.title(model_name)\n",
    "    plt.legend(loc=\"lower right\")\n",
    "    plt.savefig(\"/content/\"+model_name+\"_auroc_curve.pdf\")\n",
    "    plt.savefig(\"/content/\"+model_name+\"_auroc_curve.jpg\")\n",
    "    plt.show()"
   ]
  },
  {
   "cell_type": "code",
   "execution_count": null,
   "metadata": {
    "id": "KLAm75afVss_"
   },
   "outputs": [],
   "source": [
    "y_pred_softmax = LSTM.predict([X_auto_test])\n",
    "y_pred = np.argmax(y_pred_softmax,axis = 1)"
   ]
  },
  {
   "cell_type": "markdown",
   "metadata": {},
   "source": [
    "# 인코딩된 데이터"
   ]
  },
  {
   "cell_type": "code",
   "execution_count": null,
   "metadata": {
    "colab": {
     "base_uri": "https://localhost:8080/",
     "height": 657
    },
    "executionInfo": {
     "elapsed": 1172,
     "status": "ok",
     "timestamp": 1607347492483,
     "user": {
      "displayName": "고준서",
      "photoUrl": "https://lh3.googleusercontent.com/a-/AOh14Gg7AH0ONy_kdG9u5tOroFVHHJ0bj4Th4wNkRRmRtg=s64",
      "userId": "00253795494504996225"
     },
     "user_tz": -540
    },
    "id": "j8VeHVgKV3ZF",
    "outputId": "cc1d4c5d-3c66-4cff-e996-f58269c6706c"
   },
   "outputs": [
    {
     "name": "stdout",
     "output_type": "stream",
     "text": [
      "              precision    recall  f1-score   support\n",
      "\n",
      "           0       0.71      0.71      0.71        14\n",
      "           1       0.33      0.33      0.33         6\n",
      "\n",
      "    accuracy                           0.60        20\n",
      "   macro avg       0.52      0.52      0.52        20\n",
      "weighted avg       0.60      0.60      0.60        20\n",
      "\n"
     ]
    },
    {
     "data": {
      "image/png": "[encoded data removed]",
      "text/plain": [
       "<Figure size 576x576 with 2 Axes>"
      ]
     },
     "metadata": {
      "needs_background": "light",
      "tags": []
     },
     "output_type": "display_data"
    }
   ],
   "source": [
    "evaluation(y_test , y_pred , \"LSTM\")"
   ]
  },
  {
   "cell_type": "code",
   "execution_count": null,
   "metadata": {
    "colab": {
     "base_uri": "https://localhost:8080/",
     "height": 295
    },
    "executionInfo": {
     "elapsed": 1060,
     "status": "ok",
     "timestamp": 1607347498419,
     "user": {
      "displayName": "고준서",
      "photoUrl": "https://lh3.googleusercontent.com/a-/AOh14Gg7AH0ONy_kdG9u5tOroFVHHJ0bj4Th4wNkRRmRtg=s64",
      "userId": "00253795494504996225"
     },
     "user_tz": -540
    },
    "id": "Hs8eWnnwV_Nc",
    "outputId": "cc1f628a-724a-4126-fec8-7eaae4f2c815",
    "scrolled": true
   },
   "outputs": [
    {
     "data": {
      "image/png": "[encoded data removed]",
      "text/plain": [
       "<Figure size 432x288 with 1 Axes>"
      ]
     },
     "metadata": {
      "needs_background": "light",
      "tags": []
     },
     "output_type": "display_data"
    }
   ],
   "source": [
    "# roc_curve(y_test, y_pred_softmax)\n",
    "AUROC_Curve(y_test, y_pred_softmax[:,1], \"LSTM\")"
   ]
  },
  {
   "cell_type": "markdown",
   "metadata": {},
   "source": [
    "# 인코딩 안한 원래의 데이터로 실험한 결과"
   ]
  },
  {
   "cell_type": "code",
   "execution_count": null,
   "metadata": {
    "colab": {
     "base_uri": "https://localhost:8080/"
    },
    "executionInfo": {
     "elapsed": 942,
     "status": "ok",
     "timestamp": 1607348570140,
     "user": {
      "displayName": "고준서",
      "photoUrl": "https://lh3.googleusercontent.com/a-/AOh14Gg7AH0ONy_kdG9u5tOroFVHHJ0bj4Th4wNkRRmRtg=s64",
      "userId": "00253795494504996225"
     },
     "user_tz": -540
    },
    "id": "WBvROyALWYgO",
    "outputId": "2cfb5304-6fa7-44ca-8cec-d1f88f814e91"
   },
   "outputs": [
    {
     "name": "stdout",
     "output_type": "stream",
     "text": [
      "Model: \"functional_33\"\n",
      "_________________________________________________________________\n",
      "Layer (type)                 Output Shape              Param #   \n",
      "=================================================================\n",
      "input_31 (InputLayer)        [(None, 12, 5000)]        0         \n",
      "_________________________________________________________________\n",
      "dense_46 (Dense)             (None, 12, 16)            80016     \n",
      "_________________________________________________________________\n",
      "lstm_17 (LSTM)               (None, 10)                1080      \n",
      "_________________________________________________________________\n",
      "dropout_21 (Dropout)         (None, 10)                0         \n",
      "_________________________________________________________________\n",
      "dense_47 (Dense)             (None, 2)                 22        \n",
      "=================================================================\n",
      "Total params: 81,118\n",
      "Trainable params: 81,118\n",
      "Non-trainable params: 0\n",
      "_________________________________________________________________\n",
      "None\n"
     ]
    }
   ],
   "source": [
    "from tensorflow.keras.layers import Dropout, Flatten, LSTM, Dense, Input\n",
    "from keras.models import Sequential, Model\n",
    "xInput = Input((12, 5000))\n",
    "# xLstm = Flatten()(xInput)\n",
    "xLstm = Dense(16, activation = \"relu\")(xInput)\n",
    "xLstm = LSTM(10)(xLstm)\n",
    "xLstm = Dropout(0.5)(xLstm)\n",
    "xOutput = Dense(2, activation = \"softmax\")(xLstm)\n",
    "model = Model(xInput, xOutput)\n",
    "print(model.summary())"
   ]
  },
  {
   "cell_type": "code",
   "execution_count": null,
   "metadata": {
    "colab": {
     "base_uri": "https://localhost:8080/"
    },
    "executionInfo": {
     "elapsed": 16809,
     "status": "ok",
     "timestamp": 1607348586459,
     "user": {
      "displayName": "고준서",
      "photoUrl": "https://lh3.googleusercontent.com/a-/AOh14Gg7AH0ONy_kdG9u5tOroFVHHJ0bj4Th4wNkRRmRtg=s64",
      "userId": "00253795494504996225"
     },
     "user_tz": -540
    },
    "id": "lZ5trZt1YhDW",
    "outputId": "cc213d6a-2290-496f-e4ce-7e130117a0e7"
   },
   "outputs": [
    {
     "name": "stdout",
     "output_type": "stream",
     "text": [
      "Epoch 1/100\n",
      "10/10 [==============================] - 1s 57ms/step - loss: 0.8132 - accuracy: 0.5490 - val_loss: 0.6016 - val_accuracy: 0.6667\n",
      "Epoch 2/100\n",
      "10/10 [==============================] - 0s 12ms/step - loss: 0.7559 - accuracy: 0.6536 - val_loss: 0.6048 - val_accuracy: 0.6667\n",
      "Epoch 3/100\n",
      "10/10 [==============================] - 0s 16ms/step - loss: 0.7342 - accuracy: 0.5621 - val_loss: 0.5349 - val_accuracy: 0.7407\n",
      "Epoch 4/100\n",
      "10/10 [==============================] - 0s 13ms/step - loss: 0.7193 - accuracy: 0.6144 - val_loss: 0.5902 - val_accuracy: 0.7037\n",
      "Epoch 5/100\n",
      "10/10 [==============================] - 0s 14ms/step - loss: 0.6909 - accuracy: 0.6209 - val_loss: 0.5476 - val_accuracy: 0.7778\n",
      "Epoch 6/100\n",
      "10/10 [==============================] - 0s 12ms/step - loss: 0.6596 - accuracy: 0.6601 - val_loss: 0.5584 - val_accuracy: 0.7037\n",
      "Epoch 7/100\n",
      "10/10 [==============================] - 0s 13ms/step - loss: 0.6422 - accuracy: 0.6993 - val_loss: 0.5759 - val_accuracy: 0.7778\n",
      "Epoch 8/100\n",
      "10/10 [==============================] - 0s 13ms/step - loss: 0.6064 - accuracy: 0.6993 - val_loss: 0.6875 - val_accuracy: 0.5556\n",
      "Epoch 9/100\n",
      "10/10 [==============================] - 0s 12ms/step - loss: 0.6522 - accuracy: 0.6667 - val_loss: 0.5868 - val_accuracy: 0.7407\n",
      "Epoch 10/100\n",
      "10/10 [==============================] - 0s 12ms/step - loss: 0.5882 - accuracy: 0.7255 - val_loss: 0.5974 - val_accuracy: 0.6667\n",
      "Epoch 11/100\n",
      "10/10 [==============================] - 0s 14ms/step - loss: 0.6196 - accuracy: 0.7124 - val_loss: 0.5567 - val_accuracy: 0.7778\n",
      "Epoch 12/100\n",
      "10/10 [==============================] - 0s 13ms/step - loss: 0.6307 - accuracy: 0.6601 - val_loss: 0.5718 - val_accuracy: 0.7407\n",
      "Epoch 13/100\n",
      "10/10 [==============================] - 0s 12ms/step - loss: 0.5588 - accuracy: 0.7255 - val_loss: 0.6117 - val_accuracy: 0.6667\n",
      "Epoch 14/100\n",
      "10/10 [==============================] - 0s 12ms/step - loss: 0.6391 - accuracy: 0.6667 - val_loss: 0.5699 - val_accuracy: 0.6296\n",
      "Epoch 15/100\n",
      "10/10 [==============================] - 0s 12ms/step - loss: 0.6012 - accuracy: 0.7190 - val_loss: 0.6190 - val_accuracy: 0.5556\n",
      "Epoch 16/100\n",
      "10/10 [==============================] - 0s 12ms/step - loss: 0.6308 - accuracy: 0.6797 - val_loss: 0.6365 - val_accuracy: 0.6296\n",
      "Epoch 17/100\n",
      "10/10 [==============================] - 0s 12ms/step - loss: 0.5938 - accuracy: 0.7059 - val_loss: 0.5254 - val_accuracy: 0.7407\n",
      "Epoch 18/100\n",
      "10/10 [==============================] - 0s 12ms/step - loss: 0.5888 - accuracy: 0.7124 - val_loss: 0.5244 - val_accuracy: 0.7778\n",
      "Epoch 19/100\n",
      "10/10 [==============================] - 0s 12ms/step - loss: 0.5665 - accuracy: 0.6993 - val_loss: 0.5531 - val_accuracy: 0.7407\n",
      "Epoch 20/100\n",
      "10/10 [==============================] - 0s 12ms/step - loss: 0.6288 - accuracy: 0.6667 - val_loss: 0.5297 - val_accuracy: 0.7778\n",
      "Epoch 21/100\n",
      "10/10 [==============================] - 0s 12ms/step - loss: 0.6541 - accuracy: 0.6863 - val_loss: 0.5330 - val_accuracy: 0.7778\n",
      "Epoch 22/100\n",
      "10/10 [==============================] - 0s 13ms/step - loss: 0.5547 - accuracy: 0.7320 - val_loss: 0.5511 - val_accuracy: 0.7407\n",
      "Epoch 23/100\n",
      "10/10 [==============================] - 0s 11ms/step - loss: 0.5998 - accuracy: 0.6797 - val_loss: 0.6154 - val_accuracy: 0.6667\n",
      "Epoch 24/100\n",
      "10/10 [==============================] - 0s 14ms/step - loss: 0.5749 - accuracy: 0.7255 - val_loss: 0.6259 - val_accuracy: 0.6667\n",
      "Epoch 25/100\n",
      "10/10 [==============================] - 0s 12ms/step - loss: 0.5374 - accuracy: 0.7451 - val_loss: 0.6219 - val_accuracy: 0.6667\n",
      "Epoch 26/100\n",
      "10/10 [==============================] - 0s 11ms/step - loss: 0.5528 - accuracy: 0.7582 - val_loss: 0.6099 - val_accuracy: 0.6667\n",
      "Epoch 27/100\n",
      "10/10 [==============================] - 0s 12ms/step - loss: 0.5885 - accuracy: 0.6797 - val_loss: 0.6075 - val_accuracy: 0.6667\n",
      "Epoch 28/100\n",
      "10/10 [==============================] - 0s 12ms/step - loss: 0.6102 - accuracy: 0.7124 - val_loss: 0.5893 - val_accuracy: 0.7037\n",
      "Epoch 29/100\n",
      "10/10 [==============================] - 0s 12ms/step - loss: 0.6067 - accuracy: 0.6863 - val_loss: 0.6240 - val_accuracy: 0.7037\n",
      "Epoch 30/100\n",
      "10/10 [==============================] - 0s 13ms/step - loss: 0.5434 - accuracy: 0.7451 - val_loss: 0.6095 - val_accuracy: 0.7037\n",
      "Epoch 31/100\n",
      "10/10 [==============================] - 0s 12ms/step - loss: 0.5394 - accuracy: 0.7451 - val_loss: 0.5831 - val_accuracy: 0.7778\n",
      "Epoch 32/100\n",
      "10/10 [==============================] - 0s 12ms/step - loss: 0.5951 - accuracy: 0.6797 - val_loss: 0.6017 - val_accuracy: 0.7407\n",
      "Epoch 33/100\n",
      "10/10 [==============================] - 0s 12ms/step - loss: 0.5934 - accuracy: 0.7124 - val_loss: 0.5524 - val_accuracy: 0.7407\n",
      "Epoch 34/100\n",
      "10/10 [==============================] - 0s 12ms/step - loss: 0.6121 - accuracy: 0.6667 - val_loss: 0.5766 - val_accuracy: 0.7778\n",
      "Epoch 35/100\n",
      "10/10 [==============================] - 0s 12ms/step - loss: 0.6183 - accuracy: 0.7059 - val_loss: 0.5961 - val_accuracy: 0.7778\n",
      "Epoch 36/100\n",
      "10/10 [==============================] - 0s 13ms/step - loss: 0.5840 - accuracy: 0.7255 - val_loss: 0.5865 - val_accuracy: 0.7778\n",
      "Epoch 37/100\n",
      "10/10 [==============================] - 0s 13ms/step - loss: 0.5149 - accuracy: 0.7712 - val_loss: 0.5504 - val_accuracy: 0.7778\n",
      "Epoch 38/100\n",
      "10/10 [==============================] - 0s 12ms/step - loss: 0.5453 - accuracy: 0.7451 - val_loss: 0.5277 - val_accuracy: 0.7778\n",
      "Epoch 39/100\n",
      "10/10 [==============================] - 0s 12ms/step - loss: 0.5778 - accuracy: 0.6863 - val_loss: 0.5353 - val_accuracy: 0.7778\n",
      "Epoch 40/100\n",
      "10/10 [==============================] - 0s 12ms/step - loss: 0.5735 - accuracy: 0.7386 - val_loss: 0.5665 - val_accuracy: 0.7407\n",
      "Epoch 41/100\n",
      "10/10 [==============================] - 0s 12ms/step - loss: 0.5877 - accuracy: 0.7320 - val_loss: 0.5618 - val_accuracy: 0.7407\n",
      "Epoch 42/100\n",
      "10/10 [==============================] - 0s 12ms/step - loss: 0.5493 - accuracy: 0.7124 - val_loss: 0.5732 - val_accuracy: 0.7407\n",
      "Epoch 43/100\n",
      "10/10 [==============================] - 0s 13ms/step - loss: 0.5654 - accuracy: 0.7190 - val_loss: 0.5717 - val_accuracy: 0.7407\n",
      "Epoch 44/100\n",
      "10/10 [==============================] - 0s 12ms/step - loss: 0.5386 - accuracy: 0.7320 - val_loss: 0.5617 - val_accuracy: 0.7037\n",
      "Epoch 45/100\n",
      "10/10 [==============================] - 0s 12ms/step - loss: 0.5031 - accuracy: 0.7386 - val_loss: 0.5685 - val_accuracy: 0.6667\n",
      "Epoch 46/100\n",
      "10/10 [==============================] - 0s 12ms/step - loss: 0.5723 - accuracy: 0.7190 - val_loss: 0.5810 - val_accuracy: 0.6667\n",
      "Epoch 47/100\n",
      "10/10 [==============================] - 0s 12ms/step - loss: 0.5537 - accuracy: 0.7255 - val_loss: 0.5829 - val_accuracy: 0.7407\n",
      "Epoch 48/100\n",
      "10/10 [==============================] - 0s 12ms/step - loss: 0.5221 - accuracy: 0.7386 - val_loss: 0.6069 - val_accuracy: 0.7407\n",
      "Epoch 49/100\n",
      "10/10 [==============================] - 0s 12ms/step - loss: 0.5251 - accuracy: 0.7778 - val_loss: 0.6005 - val_accuracy: 0.7407\n",
      "Epoch 50/100\n",
      "10/10 [==============================] - 0s 13ms/step - loss: 0.5640 - accuracy: 0.7386 - val_loss: 0.6353 - val_accuracy: 0.7407\n",
      "Epoch 51/100\n",
      "10/10 [==============================] - 0s 12ms/step - loss: 0.5633 - accuracy: 0.7451 - val_loss: 0.5869 - val_accuracy: 0.7407\n",
      "Epoch 52/100\n",
      "10/10 [==============================] - 0s 13ms/step - loss: 0.5230 - accuracy: 0.7582 - val_loss: 0.5826 - val_accuracy: 0.7037\n",
      "Epoch 53/100\n",
      "10/10 [==============================] - 0s 14ms/step - loss: 0.5229 - accuracy: 0.7843 - val_loss: 0.5945 - val_accuracy: 0.7407\n",
      "Epoch 54/100\n",
      "10/10 [==============================] - 0s 13ms/step - loss: 0.5327 - accuracy: 0.7255 - val_loss: 0.5921 - val_accuracy: 0.7407\n",
      "Epoch 55/100\n",
      "10/10 [==============================] - 0s 12ms/step - loss: 0.5055 - accuracy: 0.7582 - val_loss: 0.5772 - val_accuracy: 0.7407\n",
      "Epoch 56/100\n",
      "10/10 [==============================] - 0s 12ms/step - loss: 0.5146 - accuracy: 0.7582 - val_loss: 0.5703 - val_accuracy: 0.7407\n",
      "Epoch 57/100\n",
      "10/10 [==============================] - 0s 13ms/step - loss: 0.5136 - accuracy: 0.7647 - val_loss: 0.5623 - val_accuracy: 0.7407\n",
      "Epoch 58/100\n",
      "10/10 [==============================] - 0s 12ms/step - loss: 0.4948 - accuracy: 0.7843 - val_loss: 0.5473 - val_accuracy: 0.7407\n",
      "Epoch 59/100\n",
      "10/10 [==============================] - 0s 13ms/step - loss: 0.5369 - accuracy: 0.7386 - val_loss: 0.5584 - val_accuracy: 0.7037\n",
      "Epoch 60/100\n",
      "10/10 [==============================] - 0s 12ms/step - loss: 0.5052 - accuracy: 0.7516 - val_loss: 0.5983 - val_accuracy: 0.7407\n",
      "Epoch 61/100\n",
      "10/10 [==============================] - 0s 13ms/step - loss: 0.5128 - accuracy: 0.7320 - val_loss: 0.5690 - val_accuracy: 0.7407\n",
      "Epoch 62/100\n",
      "10/10 [==============================] - 0s 12ms/step - loss: 0.5437 - accuracy: 0.7516 - val_loss: 0.5636 - val_accuracy: 0.7407\n",
      "Epoch 63/100\n",
      "10/10 [==============================] - 0s 12ms/step - loss: 0.5333 - accuracy: 0.7190 - val_loss: 0.5832 - val_accuracy: 0.7778\n",
      "Epoch 64/100\n",
      "10/10 [==============================] - 0s 13ms/step - loss: 0.5216 - accuracy: 0.7190 - val_loss: 0.5928 - val_accuracy: 0.7037\n",
      "Epoch 65/100\n",
      "10/10 [==============================] - 0s 12ms/step - loss: 0.5497 - accuracy: 0.7516 - val_loss: 0.5805 - val_accuracy: 0.7037\n",
      "Epoch 66/100\n",
      "10/10 [==============================] - 0s 12ms/step - loss: 0.5299 - accuracy: 0.7386 - val_loss: 0.5787 - val_accuracy: 0.7037\n",
      "Epoch 67/100\n",
      "10/10 [==============================] - 0s 11ms/step - loss: 0.5893 - accuracy: 0.7255 - val_loss: 0.5747 - val_accuracy: 0.7037\n",
      "Epoch 68/100\n",
      "10/10 [==============================] - 0s 13ms/step - loss: 0.5456 - accuracy: 0.7255 - val_loss: 0.5467 - val_accuracy: 0.7407\n",
      "Epoch 69/100\n",
      "10/10 [==============================] - 0s 13ms/step - loss: 0.5668 - accuracy: 0.7255 - val_loss: 0.5353 - val_accuracy: 0.7778\n",
      "Epoch 70/100\n",
      "10/10 [==============================] - 0s 14ms/step - loss: 0.5620 - accuracy: 0.6993 - val_loss: 0.5193 - val_accuracy: 0.7778\n",
      "Epoch 71/100\n",
      "10/10 [==============================] - 0s 13ms/step - loss: 0.5428 - accuracy: 0.7320 - val_loss: 0.5252 - val_accuracy: 0.7778\n",
      "Epoch 72/100\n",
      "10/10 [==============================] - 0s 12ms/step - loss: 0.5149 - accuracy: 0.7582 - val_loss: 0.5021 - val_accuracy: 0.7778\n",
      "Epoch 73/100\n",
      "10/10 [==============================] - 0s 12ms/step - loss: 0.5583 - accuracy: 0.7190 - val_loss: 0.5137 - val_accuracy: 0.7778\n",
      "Epoch 74/100\n",
      "10/10 [==============================] - 0s 12ms/step - loss: 0.5318 - accuracy: 0.7582 - val_loss: 0.5128 - val_accuracy: 0.7778\n",
      "Epoch 75/100\n",
      "10/10 [==============================] - 0s 12ms/step - loss: 0.5069 - accuracy: 0.7451 - val_loss: 0.5120 - val_accuracy: 0.7778\n",
      "Epoch 76/100\n",
      "10/10 [==============================] - 0s 13ms/step - loss: 0.5484 - accuracy: 0.7647 - val_loss: 0.5160 - val_accuracy: 0.7778\n",
      "Epoch 77/100\n",
      "10/10 [==============================] - 0s 12ms/step - loss: 0.5068 - accuracy: 0.7712 - val_loss: 0.4766 - val_accuracy: 0.7778\n",
      "Epoch 78/100\n",
      "10/10 [==============================] - 0s 12ms/step - loss: 0.5037 - accuracy: 0.7582 - val_loss: 0.4820 - val_accuracy: 0.7407\n",
      "Epoch 79/100\n",
      "10/10 [==============================] - 0s 12ms/step - loss: 0.5138 - accuracy: 0.7778 - val_loss: 0.5255 - val_accuracy: 0.7407\n",
      "Epoch 80/100\n",
      "10/10 [==============================] - 0s 12ms/step - loss: 0.5029 - accuracy: 0.7843 - val_loss: 0.5418 - val_accuracy: 0.7407\n",
      "Epoch 81/100\n",
      "10/10 [==============================] - 0s 13ms/step - loss: 0.4809 - accuracy: 0.7778 - val_loss: 0.5304 - val_accuracy: 0.7778\n",
      "Epoch 82/100\n",
      "10/10 [==============================] - 0s 11ms/step - loss: 0.5323 - accuracy: 0.7516 - val_loss: 0.5126 - val_accuracy: 0.7778\n",
      "Epoch 83/100\n",
      "10/10 [==============================] - 0s 12ms/step - loss: 0.5264 - accuracy: 0.7712 - val_loss: 0.5202 - val_accuracy: 0.7778\n",
      "Epoch 84/100\n",
      "10/10 [==============================] - 0s 12ms/step - loss: 0.5411 - accuracy: 0.7386 - val_loss: 0.5539 - val_accuracy: 0.7778\n",
      "Epoch 85/100\n",
      "10/10 [==============================] - 0s 12ms/step - loss: 0.5351 - accuracy: 0.7843 - val_loss: 0.5653 - val_accuracy: 0.7778\n",
      "Epoch 86/100\n",
      "10/10 [==============================] - 0s 13ms/step - loss: 0.5426 - accuracy: 0.7647 - val_loss: 0.5691 - val_accuracy: 0.7778\n",
      "Epoch 87/100\n",
      "10/10 [==============================] - 0s 12ms/step - loss: 0.4841 - accuracy: 0.7712 - val_loss: 0.5638 - val_accuracy: 0.7778\n",
      "Epoch 88/100\n",
      "10/10 [==============================] - 0s 12ms/step - loss: 0.4933 - accuracy: 0.7712 - val_loss: 0.5497 - val_accuracy: 0.7778\n",
      "Epoch 89/100\n",
      "10/10 [==============================] - 0s 12ms/step - loss: 0.4947 - accuracy: 0.7647 - val_loss: 0.5351 - val_accuracy: 0.7778\n",
      "Epoch 90/100\n",
      "10/10 [==============================] - 0s 11ms/step - loss: 0.5164 - accuracy: 0.7778 - val_loss: 0.5379 - val_accuracy: 0.7778\n",
      "Epoch 91/100\n",
      "10/10 [==============================] - 0s 12ms/step - loss: 0.5109 - accuracy: 0.7647 - val_loss: 0.5229 - val_accuracy: 0.7778\n",
      "Epoch 92/100\n",
      "10/10 [==============================] - 0s 13ms/step - loss: 0.4980 - accuracy: 0.7451 - val_loss: 0.5404 - val_accuracy: 0.7778\n",
      "Epoch 93/100\n",
      "10/10 [==============================] - 0s 12ms/step - loss: 0.5385 - accuracy: 0.7582 - val_loss: 0.5431 - val_accuracy: 0.7778\n",
      "Epoch 94/100\n",
      "10/10 [==============================] - 0s 12ms/step - loss: 0.5355 - accuracy: 0.7974 - val_loss: 0.5317 - val_accuracy: 0.7778\n",
      "Epoch 95/100\n",
      "10/10 [==============================] - 0s 14ms/step - loss: 0.5594 - accuracy: 0.7582 - val_loss: 0.5289 - val_accuracy: 0.7778\n",
      "Epoch 96/100\n",
      "10/10 [==============================] - 0s 15ms/step - loss: 0.5148 - accuracy: 0.7386 - val_loss: 0.5340 - val_accuracy: 0.7778\n",
      "Epoch 97/100\n",
      "10/10 [==============================] - 0s 14ms/step - loss: 0.5453 - accuracy: 0.7712 - val_loss: 0.5352 - val_accuracy: 0.7778\n",
      "Epoch 98/100\n",
      "10/10 [==============================] - 0s 12ms/step - loss: 0.5010 - accuracy: 0.7712 - val_loss: 0.5329 - val_accuracy: 0.7778\n",
      "Epoch 99/100\n",
      "10/10 [==============================] - 0s 12ms/step - loss: 0.5119 - accuracy: 0.7712 - val_loss: 0.5240 - val_accuracy: 0.7778\n",
      "Epoch 100/100\n",
      "10/10 [==============================] - 0s 13ms/step - loss: 0.5123 - accuracy: 0.7320 - val_loss: 0.5206 - val_accuracy: 0.7778\n"
     ]
    }
   ],
   "source": [
    "# es = tf.keras.callbacks.EarlyStopping(monitor=\"val_accuracy\", patience = 5)\n",
    "mcp_save = tf.keras.callbacks.ModelCheckpoint('/content/bestFULL_LSTM.h5', save_best_only=True, monitor='val_accuracy', mode='max')\n",
    "model.compile(loss='binary_crossentropy', optimizer='adam', metrics=[\"accuracy\"])\n",
    "history = model.fit(X_train.reshape(153, 12, 5000), one_y_train, epochs=100,callbacks=[mcp_save], validation_data = (X_val.reshape(27, 12, 5000), one_y_val), batch_size = 16)"
   ]
  },
  {
   "cell_type": "code",
   "execution_count": null,
   "metadata": {
    "colab": {
     "base_uri": "https://localhost:8080/"
    },
    "executionInfo": {
     "elapsed": 1851,
     "status": "ok",
     "timestamp": 1607348872704,
     "user": {
      "displayName": "고준서",
      "photoUrl": "https://lh3.googleusercontent.com/a-/AOh14Gg7AH0ONy_kdG9u5tOroFVHHJ0bj4Th4wNkRRmRtg=s64",
      "userId": "00253795494504996225"
     },
     "user_tz": -540
    },
    "id": "cIEglQmWaKZT",
    "outputId": "728bad4c-7605-40c1-d114-98c20ed28484"
   },
   "outputs": [
    {
     "name": "stdout",
     "output_type": "stream",
     "text": [
      "WARNING:tensorflow:8 out of the last 11 calls to <function Model.make_predict_function.<locals>.predict_function at 0x7fce958036a8> triggered tf.function retracing. Tracing is expensive and the excessive number of tracings could be due to (1) creating @tf.function repeatedly in a loop, (2) passing tensors with different shapes, (3) passing Python objects instead of tensors. For (1), please define your @tf.function outside of the loop. For (2), @tf.function has experimental_relax_shapes=True option that relaxes argument shapes that can avoid unnecessary retracing. For (3), please refer to https://www.tensorflow.org/tutorials/customization/performance#python_or_tensor_args and https://www.tensorflow.org/api_docs/python/tf/function for  more details.\n",
      "              precision    recall  f1-score   support\n",
      "\n",
      "           0       0.64      0.64      0.64        14\n",
      "           1       0.17      0.17      0.17         6\n",
      "\n",
      "    accuracy                           0.50        20\n",
      "   macro avg       0.40      0.40      0.40        20\n",
      "weighted avg       0.50      0.50      0.50        20\n",
      "\n"
     ]
    }
   ],
   "source": [
    "import tensorflow as tf\n",
    "FULL_LSTM = tf.keras.models.load_model(\"/content/bestFULL_LSTM.h5\")\n",
    "print(classification_report(y_test, np.argmax(FULL_LSTM.predict([X_test.reshape(20, 12, 5000)]), axis = 1)))"
   ]
  },
  {
   "cell_type": "code",
   "execution_count": null,
   "metadata": {
    "id": "zzGYEiu7aWCE"
   },
   "outputs": [],
   "source": [
    "y_pred_softmax = FULL_LSTM.predict([X_test.reshape(20, 12, 5000)])\n",
    "y_pred = np.argmax(y_pred_softmax, axis = 1)"
   ]
  },
  {
   "cell_type": "code",
   "execution_count": null,
   "metadata": {
    "colab": {
     "base_uri": "https://localhost:8080/",
     "height": 935
    },
    "executionInfo": {
     "elapsed": 1237,
     "status": "ok",
     "timestamp": 1607348907520,
     "user": {
      "displayName": "고준서",
      "photoUrl": "https://lh3.googleusercontent.com/a-/AOh14Gg7AH0ONy_kdG9u5tOroFVHHJ0bj4Th4wNkRRmRtg=s64",
      "userId": "00253795494504996225"
     },
     "user_tz": -540
    },
    "id": "WQPHOk2FcZ6K",
    "outputId": "6bfc2d30-bbe2-4a27-ec50-51b813658792"
   },
   "outputs": [
    {
     "data": {
      "image/png": "[encoded data removed]",
      "text/plain": [
       "<Figure size 432x288 with 1 Axes>"
      ]
     },
     "metadata": {
      "needs_background": "light",
      "tags": []
     },
     "output_type": "display_data"
    },
    {
     "name": "stdout",
     "output_type": "stream",
     "text": [
      "              precision    recall  f1-score   support\n",
      "\n",
      "           0       0.64      0.64      0.64        14\n",
      "           1       0.17      0.17      0.17         6\n",
      "\n",
      "    accuracy                           0.50        20\n",
      "   macro avg       0.40      0.40      0.40        20\n",
      "weighted avg       0.50      0.50      0.50        20\n",
      "\n"
     ]
    },
    {
     "data": {
      "image/png": "[encoded data removed]",
      "text/plain": [
       "<Figure size 576x576 with 2 Axes>"
      ]
     },
     "metadata": {
      "needs_background": "light",
      "tags": []
     },
     "output_type": "display_data"
    }
   ],
   "source": [
    "# roc_curve(y_test, y_pred_softmax)\n",
    "AUROC_Curve(y_test, y_pred_softmax[:,1], \"FULL_LSTM\")\n",
    "evaluation(y_test, y_pred,\"FULL_LSTM\")"
   ]
  },
  {
   "cell_type": "code",
   "execution_count": null,
   "metadata": {
    "id": "G3IVb1wVc0Va"
   },
   "outputs": [],
   "source": []
  }
 ],
 "metadata": {
  "colab": {
   "name": "Group4_code3_4_LSTM.ipynb",
   "provenance": []
  },
  "kernelspec": {
   "display_name": "Python 3",
   "language": "python",
   "name": "python3"
  },
  "language_info": {
   "codemirror_mode": {
    "name": "ipython",
    "version": 3
   },
   "file_extension": ".py",
   "mimetype": "text/x-python",
   "name": "python",
   "nbconvert_exporter": "python",
   "pygments_lexer": "ipython3",
   "version": "3.7.6"
  },
  "widgets": {
   "application/vnd.jupyter.widget-state+json": {
    "0fd3503bd37c4320bdc92ed23d156e8d": {
     "model_module": "@jupyter-widgets/base",
     "model_name": "LayoutModel",
     "state": {
      "_model_module": "@jupyter-widgets/base",
      "_model_module_version": "1.2.0",
      "_model_name": "LayoutModel",
      "_view_count": null,
      "_view_module": "@jupyter-widgets/base",
      "_view_module_version": "1.2.0",
      "_view_name": "LayoutView",
      "align_content": null,
      "align_items": null,
      "align_self": null,
      "border": null,
      "bottom": null,
      "display": null,
      "flex": null,
      "flex_flow": null,
      "grid_area": null,
      "grid_auto_columns": null,
      "grid_auto_flow": null,
      "grid_auto_rows": null,
      "grid_column": null,
      "grid_gap": null,
      "grid_row": null,
      "grid_template_areas": null,
      "grid_template_columns": null,
      "grid_template_rows": null,
      "height": null,
      "justify_content": null,
      "justify_items": null,
      "left": null,
      "margin": null,
      "max_height": null,
      "max_width": null,
      "min_height": null,
      "min_width": null,
      "object_fit": null,
      "object_position": null,
      "order": null,
      "overflow": null,
      "overflow_x": null,
      "overflow_y": null,
      "padding": null,
      "right": null,
      "top": null,
      "visibility": null,
      "width": null
     }
    },
    "2ad3d8f743314b4b87b8f40f936730f0": {
     "model_module": "@jupyter-widgets/controls",
     "model_name": "HBoxModel",
     "state": {
      "_dom_classes": [],
      "_model_module": "@jupyter-widgets/controls",
      "_model_module_version": "1.5.0",
      "_model_name": "HBoxModel",
      "_view_count": null,
      "_view_module": "@jupyter-widgets/controls",
      "_view_module_version": "1.5.0",
      "_view_name": "HBoxView",
      "box_style": "",
      "children": [
       "IPY_MODEL_fbcf3520084f4057934f1d2aed350898",
       "IPY_MODEL_4686c10898164f36921c4835618d3a9c"
      ],
      "layout": "IPY_MODEL_7f0a246d57b84a148f360ae75512fb9a"
     }
    },
    "4686c10898164f36921c4835618d3a9c": {
     "model_module": "@jupyter-widgets/controls",
     "model_name": "HTMLModel",
     "state": {
      "_dom_classes": [],
      "_model_module": "@jupyter-widgets/controls",
      "_model_module_version": "1.5.0",
      "_model_name": "HTMLModel",
      "_view_count": null,
      "_view_module": "@jupyter-widgets/controls",
      "_view_module_version": "1.5.0",
      "_view_name": "HTMLView",
      "description": "",
      "description_tooltip": null,
      "layout": "IPY_MODEL_50c51d79ae1d43f8b1d1fec894e6a6c7",
      "placeholder": "​",
      "style": "IPY_MODEL_dacf2ed2421e4b86bcfedeb92d021774",
      "value": " 9/9 [00:18&lt;00:00,  2.09s/it]"
     }
    },
    "50c51d79ae1d43f8b1d1fec894e6a6c7": {
     "model_module": "@jupyter-widgets/base",
     "model_name": "LayoutModel",
     "state": {
      "_model_module": "@jupyter-widgets/base",
      "_model_module_version": "1.2.0",
      "_model_name": "LayoutModel",
      "_view_count": null,
      "_view_module": "@jupyter-widgets/base",
      "_view_module_version": "1.2.0",
      "_view_name": "LayoutView",
      "align_content": null,
      "align_items": null,
      "align_self": null,
      "border": null,
      "bottom": null,
      "display": null,
      "flex": null,
      "flex_flow": null,
      "grid_area": null,
      "grid_auto_columns": null,
      "grid_auto_flow": null,
      "grid_auto_rows": null,
      "grid_column": null,
      "grid_gap": null,
      "grid_row": null,
      "grid_template_areas": null,
      "grid_template_columns": null,
      "grid_template_rows": null,
      "height": null,
      "justify_content": null,
      "justify_items": null,
      "left": null,
      "margin": null,
      "max_height": null,
      "max_width": null,
      "min_height": null,
      "min_width": null,
      "object_fit": null,
      "object_position": null,
      "order": null,
      "overflow": null,
      "overflow_x": null,
      "overflow_y": null,
      "padding": null,
      "right": null,
      "top": null,
      "visibility": null,
      "width": null
     }
    },
    "55bf688f3bab4dfe8176cff4325d5edb": {
     "model_module": "@jupyter-widgets/controls",
     "model_name": "ProgressStyleModel",
     "state": {
      "_model_module": "@jupyter-widgets/controls",
      "_model_module_version": "1.5.0",
      "_model_name": "ProgressStyleModel",
      "_view_count": null,
      "_view_module": "@jupyter-widgets/base",
      "_view_module_version": "1.2.0",
      "_view_name": "StyleView",
      "bar_color": null,
      "description_width": "initial"
     }
    },
    "7f0a246d57b84a148f360ae75512fb9a": {
     "model_module": "@jupyter-widgets/base",
     "model_name": "LayoutModel",
     "state": {
      "_model_module": "@jupyter-widgets/base",
      "_model_module_version": "1.2.0",
      "_model_name": "LayoutModel",
      "_view_count": null,
      "_view_module": "@jupyter-widgets/base",
      "_view_module_version": "1.2.0",
      "_view_name": "LayoutView",
      "align_content": null,
      "align_items": null,
      "align_self": null,
      "border": null,
      "bottom": null,
      "display": null,
      "flex": null,
      "flex_flow": null,
      "grid_area": null,
      "grid_auto_columns": null,
      "grid_auto_flow": null,
      "grid_auto_rows": null,
      "grid_column": null,
      "grid_gap": null,
      "grid_row": null,
      "grid_template_areas": null,
      "grid_template_columns": null,
      "grid_template_rows": null,
      "height": null,
      "justify_content": null,
      "justify_items": null,
      "left": null,
      "margin": null,
      "max_height": null,
      "max_width": null,
      "min_height": null,
      "min_width": null,
      "object_fit": null,
      "object_position": null,
      "order": null,
      "overflow": null,
      "overflow_x": null,
      "overflow_y": null,
      "padding": null,
      "right": null,
      "top": null,
      "visibility": null,
      "width": null
     }
    },
    "dacf2ed2421e4b86bcfedeb92d021774": {
     "model_module": "@jupyter-widgets/controls",
     "model_name": "DescriptionStyleModel",
     "state": {
      "_model_module": "@jupyter-widgets/controls",
      "_model_module_version": "1.5.0",
      "_model_name": "DescriptionStyleModel",
      "_view_count": null,
      "_view_module": "@jupyter-widgets/base",
      "_view_module_version": "1.2.0",
      "_view_name": "StyleView",
      "description_width": ""
     }
    },
    "fbcf3520084f4057934f1d2aed350898": {
     "model_module": "@jupyter-widgets/controls",
     "model_name": "FloatProgressModel",
     "state": {
      "_dom_classes": [],
      "_model_module": "@jupyter-widgets/controls",
      "_model_module_version": "1.5.0",
      "_model_name": "FloatProgressModel",
      "_view_count": null,
      "_view_module": "@jupyter-widgets/controls",
      "_view_module_version": "1.5.0",
      "_view_name": "ProgressView",
      "bar_style": "success",
      "description": "100%",
      "description_tooltip": null,
      "layout": "IPY_MODEL_0fd3503bd37c4320bdc92ed23d156e8d",
      "max": 9,
      "min": 0,
      "orientation": "horizontal",
      "style": "IPY_MODEL_55bf688f3bab4dfe8176cff4325d5edb",
      "value": 9
     }
    }
   }
  }
 },
 "nbformat": 4,
 "nbformat_minor": 1
}
